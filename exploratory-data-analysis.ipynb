{
 "cells": [
  {
   "cell_type": "markdown",
   "metadata": {},
   "source": [
    "# Lending Club Data Processing + EDA"
   ]
  },
  {
   "cell_type": "code",
   "execution_count": 1,
   "metadata": {},
   "outputs": [],
   "source": [
    "import pandas as pd\n",
    "import numpy as np\n",
    "import matplotlib.pyplot as plt\n",
    "%matplotlib inline\n",
    "import seaborn as sns\n",
    "import warnings"
   ]
  },
  {
   "cell_type": "markdown",
   "metadata": {},
   "source": [
    "## 1. Data Processing"
   ]
  },
  {
   "cell_type": "code",
   "execution_count": 2,
   "metadata": {},
   "outputs": [],
   "source": [
    "warnings.filterwarnings(\"ignore\")\n",
    "q1 = pd.read_csv('LoanStats_securev1_2017Q1.csv', skiprows = 1)\n",
    "q2 = pd.read_csv('LoanStats_securev1_2017Q2.csv', skiprows = 1)\n",
    "q3 = pd.read_csv('LoanStats_securev1_2017Q3.csv', skiprows = 1)\n",
    "q4 = pd.read_csv('LoanStats_securev1_2017Q4.csv', skiprows = 1)"
   ]
  },
  {
   "cell_type": "code",
   "execution_count": 3,
   "metadata": {},
   "outputs": [
    {
     "data": {
      "text/plain": [
       "150"
      ]
     },
     "execution_count": 3,
     "metadata": {},
     "output_type": "execute_result"
    }
   ],
   "source": [
    "# All four periods of 2017 have the same columns.\n",
    "len(set(q1.columns.values) & set(q2.columns.values) & set(q3.columns.values) & set(q4.columns.values))"
   ]
  },
  {
   "cell_type": "markdown",
   "metadata": {},
   "source": [
    "### Extract history and current sets"
   ]
  },
  {
   "cell_type": "code",
   "execution_count": 4,
   "metadata": {},
   "outputs": [],
   "source": [
    "df_hist = q1.append(q2).append(q3)\n",
    "for col in df_hist.columns.values:\n",
    "    df_hist.rename(columns={str(col):str(col).replace('_','')}, inplace=True)"
   ]
  },
  {
   "cell_type": "code",
   "execution_count": 5,
   "metadata": {},
   "outputs": [],
   "source": [
    "df_curr = q4\n",
    "for col in df_curr.columns.values:\n",
    "    df_curr.rename(columns={str(col):str(col).replace('_','')}, inplace=True)"
   ]
  },
  {
   "cell_type": "code",
   "execution_count": 6,
   "metadata": {},
   "outputs": [],
   "source": [
    "df_hist.to_csv('loan_2017_hist.csv', index = False)\n",
    "df_curr.to_csv('loan_2017_curr.csv', index = False)"
   ]
  },
  {
   "cell_type": "code",
   "execution_count": 7,
   "metadata": {},
   "outputs": [],
   "source": [
    "df_hist = pd.read_csv('loan_2017_hist.csv')\n",
    "df_curr = pd.read_csv('loan_2017_curr.csv')"
   ]
  },
  {
   "cell_type": "code",
   "execution_count": 8,
   "metadata": {},
   "outputs": [
    {
     "name": "stdout",
     "output_type": "stream",
     "text": [
      "(324613, 150) (118526, 150)\n"
     ]
    }
   ],
   "source": [
    "print(df_hist.shape, df_curr.shape)"
   ]
  },
  {
   "cell_type": "markdown",
   "metadata": {},
   "source": [
    "### Examine Columns for Missing Values (merge train/test together for processing)"
   ]
  },
  {
   "cell_type": "code",
   "execution_count": 9,
   "metadata": {},
   "outputs": [
    {
     "data": {
      "text/plain": [
       "(443139, 150)"
      ]
     },
     "execution_count": 9,
     "metadata": {},
     "output_type": "execute_result"
    }
   ],
   "source": [
    "df = df_hist.append(df_curr)\n",
    "df.shape"
   ]
  },
  {
   "cell_type": "code",
   "execution_count": 10,
   "metadata": {},
   "outputs": [],
   "source": [
    "cols = df.columns.values"
   ]
  },
  {
   "cell_type": "markdown",
   "metadata": {},
   "source": [
    "### Find all_null_feature, num_feature, ob_feature. There are only 2 columns that are entirely null."
   ]
  },
  {
   "cell_type": "code",
   "execution_count": 11,
   "metadata": {
    "scrolled": true
   },
   "outputs": [],
   "source": [
    "all_null_feature=[]\n",
    "num_feature=[]\n",
    "ob_feature=[]\n",
    "\n",
    "for col in cols:\n",
    "    if df[col].isnull().sum()==df.shape[0]:\n",
    "        all_null_feature.append(col)\n",
    "    else:\n",
    "        if df[col].dtype == 'object':\n",
    "            ob_feature.append(col)\n",
    "        else:\n",
    "            num_feature.append(col)"
   ]
  },
  {
   "cell_type": "code",
   "execution_count": 12,
   "metadata": {},
   "outputs": [
    {
     "name": "stdout",
     "output_type": "stream",
     "text": [
      "111 37\n",
      "2\n"
     ]
    }
   ],
   "source": [
    "print(len(num_feature), len(ob_feature))\n",
    "print(len(all_null_feature))"
   ]
  },
  {
   "cell_type": "markdown",
   "metadata": {},
   "source": [
    "### Identify and drop the null features"
   ]
  },
  {
   "cell_type": "code",
   "execution_count": 13,
   "metadata": {},
   "outputs": [
    {
     "name": "stdout",
     "output_type": "stream",
     "text": [
      "['memberid', 'desc']\n"
     ]
    }
   ],
   "source": [
    "print(all_null_feature)\n",
    "df.drop(columns = all_null_feature, inplace = True)"
   ]
  },
  {
   "cell_type": "markdown",
   "metadata": {},
   "source": [
    "### Only analyze 36-month loans"
   ]
  },
  {
   "cell_type": "code",
   "execution_count": 14,
   "metadata": {},
   "outputs": [
    {
     "data": {
      "text/plain": [
       " 36 months    320086\n",
       " 60 months    123053\n",
       "Name: term, dtype: int64"
      ]
     },
     "execution_count": 14,
     "metadata": {},
     "output_type": "execute_result"
    }
   ],
   "source": [
    "df['term'].value_counts()"
   ]
  },
  {
   "cell_type": "code",
   "execution_count": 15,
   "metadata": {},
   "outputs": [],
   "source": [
    "df = df[df['term'] == ' 36 months']"
   ]
  },
  {
   "cell_type": "code",
   "execution_count": 16,
   "metadata": {},
   "outputs": [
    {
     "data": {
      "text/plain": [
       "array([' 36 months', ' 36 months', ' 36 months', ..., ' 36 months',\n",
       "       ' 36 months', ' 36 months'], dtype=object)"
      ]
     },
     "execution_count": 16,
     "metadata": {},
     "output_type": "execute_result"
    }
   ],
   "source": [
    "df['term'].values"
   ]
  },
  {
   "cell_type": "markdown",
   "metadata": {},
   "source": [
    "### Analysis of Categorical Features"
   ]
  },
  {
   "cell_type": "code",
   "execution_count": 43,
   "metadata": {
    "scrolled": false
   },
   "outputs": [
    {
     "name": "stdout",
     "output_type": "stream",
     "text": [
      "term\n",
      "0\n",
      " 36 months    1.0\n",
      "Name: term, dtype: float64\n",
      "--------------------------------------\n",
      "intrate\n",
      "0\n",
      "5.32%     0.047360\n",
      "11.99%    0.041753\n",
      "10.91%    0.041228\n",
      "9.44%     0.039415\n",
      "10.42%    0.038388\n",
      "            ...   \n",
      "30.49%    0.000362\n",
      "6.00%     0.000342\n",
      "29.99%    0.000337\n",
      "30.74%    0.000280\n",
      "28.72%    0.000178\n",
      "Name: intrate, Length: 67, dtype: float64\n",
      "--------------------------------------\n",
      "grade\n",
      "0\n",
      "B    0.331488\n",
      "C    0.285092\n",
      "A    0.221691\n",
      "D    0.117198\n",
      "E    0.035292\n",
      "F    0.006152\n",
      "G    0.003086\n",
      "Name: grade, dtype: float64\n",
      "--------------------------------------\n",
      "subgrade\n",
      "0\n",
      "B5    0.078092\n",
      "B1    0.070807\n",
      "C1    0.069423\n",
      "B4    0.066130\n",
      "C2    0.060392\n",
      "B3    0.060257\n",
      "B2    0.056203\n",
      "C5    0.055393\n",
      "A5    0.052225\n",
      "C4    0.050398\n",
      "C3    0.049487\n",
      "A1    0.047360\n",
      "A4    0.042018\n",
      "A3    0.040745\n",
      "A2    0.039342\n",
      "D2    0.032515\n",
      "D1    0.026431\n",
      "D3    0.025905\n",
      "D4    0.018929\n",
      "D5    0.013418\n",
      "E2    0.009792\n",
      "E1    0.008288\n",
      "E3    0.007304\n",
      "E5    0.005149\n",
      "E4    0.004759\n",
      "F2    0.001504\n",
      "F1    0.001499\n",
      "F5    0.001181\n",
      "F3    0.001099\n",
      "G5    0.000873\n",
      "F4    0.000868\n",
      "G1    0.000767\n",
      "G2    0.000651\n",
      "G3    0.000400\n",
      "G4    0.000395\n",
      "Name: subgrade, dtype: float64\n",
      "--------------------------------------\n",
      "emptitle\n",
      "16059\n",
      "Teacher               0.019556\n",
      "Manager               0.018850\n",
      "Owner                 0.013473\n",
      "Driver                0.009355\n",
      "Registered Nurse      0.007499\n",
      "                        ...   \n",
      "Accounts Mgr          0.000005\n",
      "HR/Signing            0.000005\n",
      "Retail Stock Clerk    0.000005\n",
      "Outbound Packing      0.000005\n",
      "Highway manager       0.000005\n",
      "Name: emptitle, Length: 65217, dtype: float64\n",
      "--------------------------------------\n",
      "emplength\n",
      "15848\n",
      "10+ years    0.341832\n",
      "2 years      0.104321\n",
      "< 1 year     0.099634\n",
      "3 years      0.090811\n",
      "1 year       0.074592\n",
      "4 years      0.068088\n",
      "5 years      0.066391\n",
      "6 years      0.046982\n",
      "7 years      0.038906\n",
      "9 years      0.036307\n",
      "8 years      0.032136\n",
      "Name: emplength, dtype: float64\n",
      "--------------------------------------\n",
      "homeownership\n",
      "0\n",
      "MORTGAGE    0.465035\n",
      "RENT        0.412053\n",
      "OWN         0.121518\n",
      "ANY         0.001379\n",
      "NONE        0.000014\n",
      "Name: homeownership, dtype: float64\n",
      "--------------------------------------\n",
      "verificationstatus\n",
      "0\n",
      "Source Verified    0.401239\n",
      "Not Verified       0.352587\n",
      "Verified           0.246174\n",
      "Name: verificationstatus, dtype: float64\n",
      "--------------------------------------\n",
      "issued\n",
      "0\n",
      "Jan-17    0.112140\n",
      "Mar-17    0.094417\n",
      "Aug-17    0.093607\n",
      "May-17    0.088062\n",
      "Jun-17    0.085695\n",
      "Jul-17    0.085430\n",
      "Feb-17    0.082060\n",
      "Nov-17    0.075585\n",
      "Sep-17    0.075324\n",
      "Oct-17    0.072036\n",
      "Apr-17    0.071564\n",
      "Dec-17    0.064081\n",
      "Name: issued, dtype: float64\n",
      "--------------------------------------\n",
      "loanstatus\n",
      "0\n",
      "0    0.806191\n",
      "1    0.193809\n",
      "Name: loanstatus, dtype: float64\n",
      "--------------------------------------\n",
      "pymntplan\n",
      "0\n",
      "n    1.0\n",
      "Name: pymntplan, dtype: float64\n",
      "--------------------------------------\n",
      "url\n",
      "0\n",
      "https://lendingclub.com/browse/loanDetail.action?loan_id=99229438     0.000005\n",
      "https://lendingclub.com/browse/loanDetail.action?loan_id=111700906    0.000005\n",
      "https://lendingclub.com/browse/loanDetail.action?loan_id=109323550    0.000005\n",
      "https://lendingclub.com/browse/loanDetail.action?loan_id=111600431    0.000005\n",
      "https://lendingclub.com/browse/loanDetail.action?loan_id=115414182    0.000005\n",
      "                                                                        ...   \n",
      "https://lendingclub.com/browse/loanDetail.action?loan_id=116259461    0.000005\n",
      "https://lendingclub.com/browse/loanDetail.action?loan_id=125849657    0.000005\n",
      "https://lendingclub.com/browse/loanDetail.action?loan_id=107628195    0.000005\n",
      "https://lendingclub.com/browse/loanDetail.action?loan_id=120937061    0.000005\n",
      "https://lendingclub.com/browse/loanDetail.action?loan_id=113968714    0.000005\n",
      "Name: url, Length: 207410, dtype: float64\n",
      "--------------------------------------\n",
      "purpose\n",
      "0\n",
      "debt_consolidation    0.537988\n",
      "credit_card           0.205646\n",
      "other                 0.081852\n",
      "home_improvement      0.077730\n",
      "major_purchase        0.025674\n",
      "medical               0.017555\n",
      "car                   0.013500\n",
      "vacation              0.011943\n",
      "small_business        0.011075\n",
      "moving                0.009787\n",
      "house                 0.006456\n",
      "renewable_energy      0.000791\n",
      "educational           0.000005\n",
      "Name: purpose, dtype: float64\n",
      "--------------------------------------\n",
      "title\n",
      "0\n",
      "Debt consolidation         0.537968\n",
      "Credit card refinancing    0.205680\n",
      "Other                      0.081848\n",
      "Home improvement           0.077720\n",
      "Major purchase             0.025669\n",
      "Medical expenses           0.017550\n",
      "Car financing              0.013509\n",
      "Vacation                   0.011943\n",
      "Business                   0.011080\n",
      "Moving and relocation      0.009783\n",
      "Home buying                0.006456\n",
      "Green loan                 0.000791\n",
      "Learning and training      0.000005\n",
      "Name: title, dtype: float64\n",
      "--------------------------------------\n",
      "zipcode\n",
      "1\n",
      "945xx    0.010954\n",
      "112xx    0.010853\n",
      "750xx    0.010612\n",
      "606xx    0.009084\n",
      "300xx    0.008616\n",
      "           ...   \n",
      "965xx    0.000005\n",
      "821xx    0.000005\n",
      "942xx    0.000005\n",
      "964xx    0.000005\n",
      "008xx    0.000005\n",
      "Name: zipcode, Length: 889, dtype: float64\n",
      "--------------------------------------\n",
      "addrstate\n",
      "0\n",
      "CA    0.141854\n",
      "TX    0.085435\n",
      "NY    0.081356\n",
      "FL    0.074413\n",
      "IL    0.038740\n",
      "NJ    0.033779\n",
      "PA    0.032173\n",
      "OH    0.031334\n",
      "GA    0.030852\n",
      "NC    0.027125\n",
      "AZ    0.025978\n",
      "VA    0.025833\n",
      "MI    0.025823\n",
      "MD    0.022742\n",
      "CO    0.022612\n",
      "MA    0.022463\n",
      "WA    0.021508\n",
      "MN    0.017511\n",
      "IN    0.017130\n",
      "TN    0.016475\n",
      "MO    0.016325\n",
      "NV    0.016267\n",
      "CT    0.015351\n",
      "WI    0.013587\n",
      "OR    0.012237\n",
      "SC    0.011586\n",
      "AL    0.011484\n",
      "LA    0.011123\n",
      "KY    0.009464\n",
      "OK    0.008751\n",
      "KS    0.008037\n",
      "AR    0.007676\n",
      "UT    0.007030\n",
      "MS    0.006191\n",
      "NM    0.005361\n",
      "NE    0.005091\n",
      "NH    0.004990\n",
      "HI    0.004754\n",
      "RI    0.004412\n",
      "ID    0.003216\n",
      "ME    0.003095\n",
      "MT    0.002830\n",
      "DE    0.002681\n",
      "AK    0.002281\n",
      "VT    0.002261\n",
      "DC    0.002203\n",
      "ND    0.002194\n",
      "SD    0.002088\n",
      "WY    0.001803\n",
      "WV    0.000497\n",
      "Name: addrstate, dtype: float64\n",
      "--------------------------------------\n",
      "earliestcrline\n",
      "0\n",
      "Sep-05    0.008327\n",
      "Aug-06    0.008216\n",
      "Aug-05    0.007946\n",
      "Sep-04    0.007685\n",
      "Aug-04    0.007536\n",
      "            ...   \n",
      "Jun-61    0.000005\n",
      "Jan-54    0.000005\n",
      "Nov-56    0.000005\n",
      "Apr-34    0.000005\n",
      "Aug-62    0.000005\n",
      "Name: earliestcrline, Length: 658, dtype: float64\n",
      "--------------------------------------\n",
      "revolutil\n",
      "211\n",
      "0%         0.006737\n",
      "42%        0.002056\n",
      "43%        0.002003\n",
      "44%        0.001993\n",
      "45%        0.001974\n",
      "             ...   \n",
      "116%       0.000005\n",
      "145.60%    0.000005\n",
      "114.50%    0.000005\n",
      "110.60%    0.000005\n",
      "114.60%    0.000005\n",
      "Name: revolutil, Length: 1104, dtype: float64\n",
      "--------------------------------------\n",
      "initialliststatus\n",
      "0\n",
      "w    0.692093\n",
      "f    0.307907\n",
      "Name: initialliststatus, dtype: float64\n",
      "--------------------------------------\n",
      "lastpymntd\n",
      "447\n",
      "Jan-20    0.048854\n",
      "Aug-18    0.040505\n",
      "Mar-18    0.038475\n",
      "Jul-18    0.037654\n",
      "Feb-19    0.036949\n",
      "Oct-18    0.036040\n",
      "Jun-18    0.035944\n",
      "Jul-19    0.035533\n",
      "May-18    0.034818\n",
      "Apr-19    0.034214\n",
      "Jan-19    0.034199\n",
      "May-19    0.033972\n",
      "Mar-19    0.033238\n",
      "Nov-18    0.032624\n",
      "Sep-18    0.032069\n",
      "Apr-18    0.031899\n",
      "Jan-18    0.029764\n",
      "Sep-19    0.029720\n",
      "Aug-19    0.029614\n",
      "Dec-18    0.029034\n",
      "Jun-19    0.028783\n",
      "Dec-19    0.028715\n",
      "Feb-18    0.028266\n",
      "Oct-19    0.027493\n",
      "Nov-19    0.024048\n",
      "Dec-17    0.023917\n",
      "Nov-17    0.023463\n",
      "Oct-17    0.021593\n",
      "Feb-20    0.018854\n",
      "Sep-17    0.017428\n",
      "Aug-17    0.017013\n",
      "Jul-17    0.013171\n",
      "Jun-17    0.010644\n",
      "May-17    0.008417\n",
      "Apr-17    0.005165\n",
      "Mar-17    0.004793\n",
      "Feb-17    0.002382\n",
      "Jan-17    0.000734\n",
      "Name: lastpymntd, dtype: float64\n",
      "--------------------------------------\n",
      "nextpymntd\n",
      "207410\n",
      "Series([], Name: nextpymntd, dtype: float64)\n",
      "--------------------------------------\n",
      "lastcreditpulld\n",
      "5\n",
      "Jan-20    0.402488\n",
      "Feb-20    0.088580\n",
      "Nov-19    0.058610\n",
      "Oct-19    0.036074\n",
      "Sep-19    0.033799\n",
      "Jul-19    0.029488\n",
      "Aug-19    0.028943\n",
      "Dec-19    0.026263\n",
      "Jun-19    0.024715\n",
      "Apr-19    0.023408\n",
      "May-19    0.022082\n",
      "Mar-19    0.020433\n",
      "Jul-18    0.020424\n",
      "Feb-19    0.020202\n",
      "Jan-19    0.018052\n",
      "Oct-18    0.017020\n",
      "Nov-18    0.014908\n",
      "Dec-18    0.014628\n",
      "Sep-18    0.012676\n",
      "Aug-18    0.012647\n",
      "May-18    0.009455\n",
      "Apr-18    0.009238\n",
      "Mar-18    0.008515\n",
      "Feb-18    0.007372\n",
      "Jan-18    0.006856\n",
      "Dec-17    0.005337\n",
      "Nov-17    0.005154\n",
      "Oct-17    0.004489\n",
      "Sep-17    0.004441\n",
      "Aug-17    0.003269\n",
      "Jul-17    0.002324\n",
      "Jun-17    0.001808\n",
      "Jun-18    0.001769\n",
      "May-17    0.001553\n",
      "Apr-17    0.001229\n",
      "Mar-17    0.000974\n",
      "Feb-17    0.000434\n",
      "Jan-17    0.000304\n",
      "Dec-16    0.000039\n"
     ]
    },
    {
     "name": "stdout",
     "output_type": "stream",
     "text": [
      "Name: lastcreditpulld, dtype: float64\n",
      "--------------------------------------\n",
      "applicationtype\n",
      "0\n",
      "Individual    0.933745\n",
      "Joint App     0.066255\n",
      "Name: applicationtype, dtype: float64\n",
      "--------------------------------------\n",
      "verificationstatusjoint\n",
      "193668\n",
      "Not Verified       0.480352\n",
      "Source Verified    0.304759\n",
      "Verified           0.214889\n",
      "Name: verificationstatusjoint, dtype: float64\n",
      "--------------------------------------\n",
      "secappearliestcrline\n",
      "195383\n",
      "Aug-05    0.009396\n",
      "Sep-06    0.009229\n",
      "Aug-06    0.008897\n",
      "Jul-06    0.008481\n",
      "May-06    0.008315\n",
      "            ...   \n",
      "Mar-34    0.000083\n",
      "Nov-66    0.000083\n",
      "Jul-75    0.000083\n",
      "Oct-79    0.000083\n",
      "Feb-78    0.000083\n",
      "Name: secappearliestcrline, Length: 541, dtype: float64\n",
      "--------------------------------------\n",
      "hardshipflag\n",
      "0\n",
      "N    1.0\n",
      "Name: hardshipflag, dtype: float64\n",
      "--------------------------------------\n",
      "hardshiptype\n",
      "205784\n",
      "INTEREST ONLY-3 MONTHS DEFERRAL    1.0\n",
      "Name: hardshiptype, dtype: float64\n",
      "--------------------------------------\n",
      "hardshipreason\n",
      "205784\n",
      "NATURAL_DISASTER         0.237392\n",
      "UNEMPLOYMENT             0.225707\n",
      "EXCESSIVE_OBLIGATIONS    0.182042\n",
      "INCOME_CURTAILMENT       0.125461\n",
      "MEDICAL                  0.116851\n",
      "REDUCED_HOURS            0.060886\n",
      "DIVORCE                  0.020910\n",
      "FAMILY_DEATH             0.016605\n",
      "DISABILITY               0.014145\n",
      "Name: hardshipreason, dtype: float64\n",
      "--------------------------------------\n",
      "hardshipstatus\n",
      "205784\n",
      "COMPLETED    0.677737\n",
      "BROKEN       0.322263\n",
      "Name: hardshipstatus, dtype: float64\n",
      "--------------------------------------\n",
      "hardshipstartdate\n",
      "205784\n",
      "Sep-17    0.166052\n",
      "Oct-18    0.076876\n",
      "Aug-18    0.070726\n",
      "Nov-18    0.065191\n",
      "Sep-18    0.063346\n",
      "Jul-18    0.052891\n",
      "Oct-17    0.049200\n",
      "Dec-18    0.046740\n",
      "Jan-19    0.046740\n",
      "Feb-19    0.042435\n",
      "Mar-19    0.033210\n",
      "Apr-19    0.029520\n",
      "Jun-18    0.029520\n",
      "May-19    0.026445\n",
      "Jun-19    0.025830\n",
      "May-18    0.024600\n",
      "Apr-18    0.022755\n",
      "Mar-18    0.018450\n",
      "Jan-18    0.017835\n",
      "Jul-19    0.017220\n",
      "Dec-17    0.017220\n",
      "Nov-17    0.014145\n",
      "Aug-19    0.012915\n",
      "Feb-18    0.012300\n",
      "Oct-19    0.007995\n",
      "Sep-19    0.006150\n",
      "Aug-17    0.001230\n",
      "Nov-19    0.001230\n",
      "Jan-20    0.000615\n",
      "Dec-19    0.000615\n",
      "Name: hardshipstartdate, dtype: float64\n",
      "--------------------------------------\n",
      "hardshipenddate\n",
      "205784\n",
      "Dec-17    0.094711\n",
      "Nov-17    0.085486\n",
      "Dec-18    0.075031\n",
      "Jan-19    0.066421\n",
      "Nov-18    0.063346\n",
      "Oct-18    0.059656\n",
      "Feb-19    0.054736\n",
      "Sep-18    0.046740\n",
      "Mar-19    0.046125\n",
      "Apr-19    0.043665\n",
      "May-19    0.041205\n",
      "Jan-18    0.030750\n",
      "Jun-19    0.030750\n",
      "Aug-19    0.027675\n",
      "Aug-18    0.027060\n",
      "Jul-19    0.026445\n",
      "Jul-18    0.025215\n",
      "Sep-19    0.022755\n",
      "Mar-18    0.021525\n",
      "May-18    0.020910\n",
      "Jun-18    0.019680\n",
      "Feb-18    0.017220\n",
      "Oct-19    0.014145\n",
      "Apr-18    0.012300\n",
      "Oct-17    0.009840\n",
      "Nov-19    0.005535\n",
      "Dec-19    0.004305\n",
      "Jan-20    0.004305\n",
      "Feb-20    0.001845\n",
      "Sep-17    0.000615\n",
      "Name: hardshipenddate, dtype: float64\n",
      "--------------------------------------\n",
      "paymentplanstartdate\n",
      "205784\n",
      "Sep-17    0.107626\n",
      "Oct-17    0.088561\n",
      "Oct-18    0.073801\n",
      "Aug-18    0.073801\n",
      "Nov-18    0.067651\n",
      "Dec-18    0.059041\n",
      "Sep-18    0.056581\n",
      "Feb-19    0.053506\n",
      "Jan-19    0.040590\n",
      "Jul-18    0.039975\n",
      "Mar-19    0.032595\n",
      "Apr-19    0.031980\n",
      "Jun-18    0.028905\n",
      "Jun-19    0.027675\n",
      "Nov-17    0.027060\n",
      "May-18    0.023985\n",
      "May-19    0.023985\n",
      "Jul-19    0.022140\n",
      "Dec-17    0.019680\n",
      "Apr-18    0.019680\n",
      "Feb-18    0.015990\n",
      "Mar-18    0.015375\n",
      "Aug-19    0.014760\n",
      "Jan-18    0.014760\n",
      "Oct-19    0.007995\n",
      "Sep-19    0.005535\n",
      "Nov-19    0.004920\n",
      "Jan-20    0.000615\n",
      "Aug-17    0.000615\n",
      "Dec-19    0.000615\n",
      "Name: paymentplanstartdate, dtype: float64\n",
      "--------------------------------------\n",
      "hardshiploanstatus\n",
      "205784\n",
      "Late (16-30 days)     0.440959\n",
      "In Grace Period       0.267528\n",
      "Current               0.247847\n",
      "Late (31-120 days)    0.038130\n",
      "Issued                0.005535\n",
      "Name: hardshiploanstatus, dtype: float64\n",
      "--------------------------------------\n",
      "debtsettlementflag\n",
      "0\n",
      "N    0.963955\n",
      "Y    0.036045\n",
      "Name: debtsettlementflag, dtype: float64\n",
      "--------------------------------------\n",
      "debtsettlementflagdate\n",
      "199934\n",
      "Dec-19    0.081996\n",
      "Nov-19    0.080658\n",
      "Oct-19    0.079320\n",
      "Aug-19    0.073435\n",
      "Sep-19    0.072365\n",
      "Jan-20    0.066613\n",
      "Jul-19    0.064339\n",
      "May-19    0.057785\n",
      "Feb-20    0.055912\n",
      "Apr-19    0.055377\n",
      "Jun-19    0.054708\n",
      "Mar-19    0.042804\n",
      "Feb-19    0.039192\n",
      "Jan-19    0.038523\n",
      "Nov-18    0.027287\n",
      "Dec-18    0.024880\n",
      "Oct-18    0.024345\n",
      "Aug-18    0.013109\n",
      "Sep-18    0.012975\n",
      "Jul-18    0.009765\n",
      "Jun-18    0.008293\n",
      "May-18    0.006287\n",
      "Apr-18    0.003478\n",
      "Mar-18    0.002140\n",
      "Feb-18    0.002006\n",
      "Jan-18    0.000803\n",
      "Dec-17    0.000669\n",
      "Nov-17    0.000535\n",
      "Sep-17    0.000401\n",
      "Name: debtsettlementflagdate, dtype: float64\n",
      "--------------------------------------\n",
      "settlementstatus\n",
      "199934\n",
      "ACTIVE      0.562333\n",
      "COMPLETE    0.278625\n",
      "BROKEN      0.159042\n",
      "Name: settlementstatus, dtype: float64\n",
      "--------------------------------------\n",
      "settlementdate\n",
      "199934\n",
      "Apr-19    0.062734\n",
      "Jan-19    0.062600\n",
      "Aug-19    0.061664\n",
      "May-19    0.061263\n",
      "Oct-19    0.057384\n",
      "Jul-19    0.054575\n",
      "Nov-19    0.053772\n",
      "Sep-19    0.052167\n",
      "Mar-19    0.051632\n",
      "Jun-19    0.048957\n",
      "Oct-18    0.042536\n",
      "Feb-19    0.041332\n",
      "Nov-18    0.040128\n",
      "Dec-19    0.039058\n",
      "Jan-20    0.038256\n",
      "Dec-18    0.035581\n",
      "Sep-18    0.033842\n",
      "Aug-18    0.025415\n",
      "Jul-18    0.023274\n",
      "Jun-18    0.020332\n",
      "May-18    0.018192\n",
      "Apr-18    0.015784\n",
      "Feb-20    0.012841\n",
      "Mar-18    0.011771\n",
      "Feb-18    0.010567\n",
      "Jan-18    0.008962\n",
      "Dec-17    0.005484\n",
      "Nov-17    0.003879\n",
      "Oct-17    0.002274\n",
      "Sep-17    0.001605\n",
      "Aug-17    0.001471\n",
      "Jul-17    0.000401\n",
      "Jun-17    0.000268\n",
      "Name: settlementdate, dtype: float64\n",
      "--------------------------------------\n"
     ]
    }
   ],
   "source": [
    "for i in range(len(ob_feature)):\n",
    "    feat = ob_feature[i]\n",
    "    print(feat)\n",
    "    print(df[feat].isnull().sum())\n",
    "    print(df[feat].value_counts(normalize = True))\n",
    "    print(\"--------------------------------------\")"
   ]
  },
  {
   "cell_type": "markdown",
   "metadata": {},
   "source": [
    "## For an issued loan, fundedamnt=loanamnt, drop fundedamnt"
   ]
  },
  {
   "cell_type": "code",
   "execution_count": 18,
   "metadata": {
    "scrolled": true
   },
   "outputs": [
    {
     "data": {
      "text/html": [
       "<div>\n",
       "<style scoped>\n",
       "    .dataframe tbody tr th:only-of-type {\n",
       "        vertical-align: middle;\n",
       "    }\n",
       "\n",
       "    .dataframe tbody tr th {\n",
       "        vertical-align: top;\n",
       "    }\n",
       "\n",
       "    .dataframe thead th {\n",
       "        text-align: right;\n",
       "    }\n",
       "</style>\n",
       "<table border=\"1\" class=\"dataframe\">\n",
       "  <thead>\n",
       "    <tr style=\"text-align: right;\">\n",
       "      <th></th>\n",
       "      <th>fundedamnt</th>\n",
       "      <th>loanamnt</th>\n",
       "    </tr>\n",
       "  </thead>\n",
       "  <tbody>\n",
       "    <tr>\n",
       "      <th>1</th>\n",
       "      <td>13000</td>\n",
       "      <td>13000</td>\n",
       "    </tr>\n",
       "    <tr>\n",
       "      <th>3</th>\n",
       "      <td>3025</td>\n",
       "      <td>3025</td>\n",
       "    </tr>\n",
       "    <tr>\n",
       "      <th>4</th>\n",
       "      <td>9000</td>\n",
       "      <td>9000</td>\n",
       "    </tr>\n",
       "    <tr>\n",
       "      <th>5</th>\n",
       "      <td>12000</td>\n",
       "      <td>12000</td>\n",
       "    </tr>\n",
       "    <tr>\n",
       "      <th>6</th>\n",
       "      <td>2000</td>\n",
       "      <td>2000</td>\n",
       "    </tr>\n",
       "    <tr>\n",
       "      <th>7</th>\n",
       "      <td>20000</td>\n",
       "      <td>20000</td>\n",
       "    </tr>\n",
       "    <tr>\n",
       "      <th>8</th>\n",
       "      <td>10000</td>\n",
       "      <td>10000</td>\n",
       "    </tr>\n",
       "    <tr>\n",
       "      <th>9</th>\n",
       "      <td>10000</td>\n",
       "      <td>10000</td>\n",
       "    </tr>\n",
       "    <tr>\n",
       "      <th>11</th>\n",
       "      <td>9900</td>\n",
       "      <td>9900</td>\n",
       "    </tr>\n",
       "    <tr>\n",
       "      <th>12</th>\n",
       "      <td>10000</td>\n",
       "      <td>10000</td>\n",
       "    </tr>\n",
       "  </tbody>\n",
       "</table>\n",
       "</div>"
      ],
      "text/plain": [
       "    fundedamnt  loanamnt\n",
       "1        13000     13000\n",
       "3         3025      3025\n",
       "4         9000      9000\n",
       "5        12000     12000\n",
       "6         2000      2000\n",
       "7        20000     20000\n",
       "8        10000     10000\n",
       "9        10000     10000\n",
       "11        9900      9900\n",
       "12       10000     10000"
      ]
     },
     "execution_count": 18,
     "metadata": {},
     "output_type": "execute_result"
    },
    {
     "data": {
      "image/png": "[encoded data removed]",
      "text/plain": [
       "<Figure size 432x288 with 1 Axes>"
      ]
     },
     "metadata": {
      "needs_background": "light"
     },
     "output_type": "display_data"
    }
   ],
   "source": [
    "df.ratio=df.fundedamnt/df.loanamnt.astype(float,3)\n",
    "df.ratio.hist(bins=100)\n",
    "df[['fundedamnt','loanamnt']][:10]"
   ]
  },
  {
   "cell_type": "markdown",
   "metadata": {},
   "source": [
    "##### Histogram"
   ]
  },
  {
   "cell_type": "code",
   "execution_count": 19,
   "metadata": {},
   "outputs": [
    {
     "data": {
      "text/plain": [
       "<matplotlib.axes._subplots.AxesSubplot at 0x7fcf684e0fd0>"
      ]
     },
     "execution_count": 19,
     "metadata": {},
     "output_type": "execute_result"
    },
    {
     "data": {
      "image/png": "[encoded data removed]",
      "text/plain": [
       "<Figure size 432x288 with 1 Axes>"
      ]
     },
     "metadata": {
      "needs_background": "light"
     },
     "output_type": "display_data"
    }
   ],
   "source": [
    "df.installment.hist(bins=100)"
   ]
  },
  {
   "cell_type": "markdown",
   "metadata": {},
   "source": [
    "##### Mean response"
   ]
  },
  {
   "cell_type": "code",
   "execution_count": 20,
   "metadata": {},
   "outputs": [],
   "source": [
    "df = df.query(\"loanstatus == 'Fully Paid' or loanstatus == 'Charged Off' \")"
   ]
  },
  {
   "cell_type": "code",
   "execution_count": 21,
   "metadata": {},
   "outputs": [],
   "source": [
    "df['loanstatus'] = df.loanstatus.map({\"Charged Off\": 1, \"Fully Paid\": 0})"
   ]
  },
  {
   "cell_type": "code",
   "execution_count": 22,
   "metadata": {},
   "outputs": [],
   "source": [
    "dummy_list = [\"emplength\", \"verificationstatus\", \"delinq2yrs\", \"addrstate\", 'homeownership', \n",
    " \"grade\", \"subgrade\", \"openacc\"]\n",
    "n = len(dummy_list)"
   ]
  },
  {
   "cell_type": "code",
   "execution_count": 23,
   "metadata": {},
   "outputs": [
    {
     "data": {
      "text/plain": [
       "<matplotlib.axes._subplots.AxesSubplot at 0x7fcf69da8250>"
      ]
     },
     "execution_count": 23,
     "metadata": {},
     "output_type": "execute_result"
    },
    {
     "data": {
      "image/png": "[encoded data removed]",
      "text/plain": [
       "<Figure size 432x288 with 1 Axes>"
      ]
     },
     "metadata": {
      "needs_background": "light"
     },
     "output_type": "display_data"
    }
   ],
   "source": [
    "# why verified incomes gives higher default rates?\n",
    "\n",
    "sns.barplot(x=dummy_list[1], y='loanstatus', data=df)"
   ]
  },
  {
   "cell_type": "code",
   "execution_count": 24,
   "metadata": {},
   "outputs": [
    {
     "data": {
      "text/plain": [
       "<matplotlib.axes._subplots.AxesSubplot at 0x7fcf689c2110>"
      ]
     },
     "execution_count": 24,
     "metadata": {},
     "output_type": "execute_result"
    },
    {
     "data": {
      "image/png": "[encoded data removed]",
      "text/plain": [
       "<Figure size 432x288 with 1 Axes>"
      ]
     },
     "metadata": {
      "needs_background": "light"
     },
     "output_type": "display_data"
    }
   ],
   "source": [
    "sns.barplot(x=dummy_list[2], y='loanstatus', data=df)"
   ]
  },
  {
   "cell_type": "code",
   "execution_count": 25,
   "metadata": {},
   "outputs": [
    {
     "data": {
      "text/plain": [
       "<matplotlib.axes._subplots.AxesSubplot at 0x7fcf6863a210>"
      ]
     },
     "execution_count": 25,
     "metadata": {},
     "output_type": "execute_result"
    },
    {
     "data": {
      "image/png": "[encoded data removed]",
      "text/plain": [
       "<Figure size 432x288 with 1 Axes>"
      ]
     },
     "metadata": {
      "needs_background": "light"
     },
     "output_type": "display_data"
    }
   ],
   "source": [
    "sns.barplot(x=dummy_list[3], y='loanstatus', data=df)"
   ]
  },
  {
   "cell_type": "code",
   "execution_count": 26,
   "metadata": {},
   "outputs": [
    {
     "data": {
      "text/plain": [
       "<matplotlib.axes._subplots.AxesSubplot at 0x7fcf73986390>"
      ]
     },
     "execution_count": 26,
     "metadata": {},
     "output_type": "execute_result"
    },
    {
     "data": {
      "image/png": "[encoded data removed]",
      "text/plain": [
       "<Figure size 432x288 with 1 Axes>"
      ]
     },
     "metadata": {
      "needs_background": "light"
     },
     "output_type": "display_data"
    }
   ],
   "source": [
    "sns.barplot(x=dummy_list[4], y='loanstatus', data=df)"
   ]
  },
  {
   "cell_type": "code",
   "execution_count": 27,
   "metadata": {},
   "outputs": [
    {
     "data": {
      "text/plain": [
       "<matplotlib.axes._subplots.AxesSubplot at 0x7fcf686bea90>"
      ]
     },
     "execution_count": 27,
     "metadata": {},
     "output_type": "execute_result"
    },
    {
     "data": {
      "image/png": "[encoded data removed]",
      "text/plain": [
       "<Figure size 432x288 with 1 Axes>"
      ]
     },
     "metadata": {
      "needs_background": "light"
     },
     "output_type": "display_data"
    }
   ],
   "source": [
    "sns.barplot(x=dummy_list[5], y='loanstatus', data=df, order = ['A', 'B', 'C', 'D', 'E', 'F', 'G'])"
   ]
  },
  {
   "cell_type": "code",
   "execution_count": 28,
   "metadata": {},
   "outputs": [
    {
     "data": {
      "text/plain": [
       "array(['A1', 'A2', 'A3', 'A4', 'A5', 'B1', 'B2', 'B3', 'B4', 'B5', 'C1',\n",
       "       'C2', 'C3', 'C4', 'C5', 'D1', 'D2', 'D3', 'D4', 'D5', 'E1', 'E2',\n",
       "       'E3', 'E4', 'E5', 'F1', 'F2', 'F3', 'F4', 'F5', 'G1', 'G2', 'G3',\n",
       "       'G4', 'G5'], dtype=object)"
      ]
     },
     "execution_count": 28,
     "metadata": {},
     "output_type": "execute_result"
    }
   ],
   "source": [
    "np.sort(df.subgrade.unique())"
   ]
  },
  {
   "cell_type": "code",
   "execution_count": 29,
   "metadata": {},
   "outputs": [
    {
     "data": {
      "text/plain": [
       "<matplotlib.axes._subplots.AxesSubplot at 0x7fcf68a62ad0>"
      ]
     },
     "execution_count": 29,
     "metadata": {},
     "output_type": "execute_result"
    },
    {
     "data": {
      "image/png": "[encoded data removed]",
      "text/plain": [
       "<Figure size 432x288 with 1 Axes>"
      ]
     },
     "metadata": {
      "needs_background": "light"
     },
     "output_type": "display_data"
    }
   ],
   "source": [
    "sns.barplot(x=dummy_list[6], y='loanstatus', data=df, order = np.sort(df.subgrade.unique()))"
   ]
  },
  {
   "cell_type": "code",
   "execution_count": 33,
   "metadata": {},
   "outputs": [],
   "source": [
    "def countinuous_variable_plot(feat_name):\n",
    "    sns.set_style(\"whitegrid\", {'axes.edgecolor': '0'})\n",
    "    factor = pd.qcut(df[feat_name], 5, labels = False) #groups the data act on groups #seperately\n",
    "    table = df.groupby([factor, 'loanstatus']).size() #gets group size counts, hashed by the two variables\n",
    "    table = table.unstack('loanstatus') #splits the data into 2 columns, 0, 1, each indexed by the\n",
    "    normedtable = table.div(table.sum(1), axis=0) #divides the counts by the totals\n",
    "    fig, ax = plt.subplots(1, 1, figsize=(12,6))\n",
    "    normedtable.iloc[:, 1].plot(kind = 'bar', alpha=0.9, color =\"#FD2C10\", ax = ax )\n",
    "    ax.set_xlabel(\"%s percentile\" % feat_name , fontsize = 20)\n",
    "    ax.set_ylabel('Default Rate', fontsize = 20)\n",
    "    x = range(5)\n",
    "    labels = ['20%tile', '40%tile', '60%tile', '80%tile', '100%tile']\n",
    "    plt.xticks(x, labels, rotation='0', fontsize = 18)\n",
    "    sns.despine()\n",
    "    ax.set_title(\"Loan Performance with respect to %s\" % feat_name )\n",
    "    fig.savefig('age.jpg')"
   ]
  },
  {
   "cell_type": "code",
   "execution_count": 34,
   "metadata": {},
   "outputs": [
    {
     "data": {
      "image/png": "[encoded data removed]",
      "text/plain": [
       "<Figure size 864x432 with 1 Axes>"
      ]
     },
     "metadata": {},
     "output_type": "display_data"
    }
   ],
   "source": [
    "countinuous_variable_plot('annualinc')"
   ]
  },
  {
   "cell_type": "code",
   "execution_count": 35,
   "metadata": {},
   "outputs": [
    {
     "data": {
      "image/png": "[encoded data removed]",
      "text/plain": [
       "<Figure size 864x432 with 1 Axes>"
      ]
     },
     "metadata": {},
     "output_type": "display_data"
    }
   ],
   "source": [
    "countinuous_variable_plot('dti')"
   ]
  },
  {
   "cell_type": "code",
   "execution_count": 36,
   "metadata": {},
   "outputs": [
    {
     "data": {
      "image/png": "[encoded data removed]",
      "text/plain": [
       "<Figure size 864x432 with 1 Axes>"
      ]
     },
     "metadata": {},
     "output_type": "display_data"
    }
   ],
   "source": [
    "countinuous_variable_plot('revolbal')"
   ]
  },
  {
   "cell_type": "code",
   "execution_count": 37,
   "metadata": {},
   "outputs": [
    {
     "data": {
      "image/png": "[encoded data removed]",
      "text/plain": [
       "<Figure size 864x432 with 1 Axes>"
      ]
     },
     "metadata": {},
     "output_type": "display_data"
    }
   ],
   "source": [
    "countinuous_variable_plot('tothicredlim')"
   ]
  },
  {
   "cell_type": "code",
   "execution_count": 38,
   "metadata": {},
   "outputs": [
    {
     "data": {
      "image/png": "[encoded data removed]",
      "text/plain": [
       "<Figure size 864x432 with 1 Axes>"
      ]
     },
     "metadata": {},
     "output_type": "display_data"
    }
   ],
   "source": [
    "countinuous_variable_plot('totalbalexmort')"
   ]
  },
  {
   "cell_type": "code",
   "execution_count": 39,
   "metadata": {},
   "outputs": [
    {
     "data": {
      "image/png": "[encoded data removed]",
      "text/plain": [
       "<Figure size 864x432 with 1 Axes>"
      ]
     },
     "metadata": {},
     "output_type": "display_data"
    }
   ],
   "source": [
    "countinuous_variable_plot('totalbclimit')"
   ]
  },
  {
   "cell_type": "code",
   "execution_count": 40,
   "metadata": {},
   "outputs": [
    {
     "data": {
      "image/png": "[encoded data removed]",
      "text/plain": [
       "<Figure size 864x432 with 1 Axes>"
      ]
     },
     "metadata": {},
     "output_type": "display_data"
    }
   ],
   "source": [
    "countinuous_variable_plot('totalilhighcreditlimit')"
   ]
  }
 ],
 "metadata": {
  "anaconda-cloud": {},
  "kernelspec": {
   "display_name": "Python 3",
   "language": "python",
   "name": "python3"
  },
  "language_info": {
   "codemirror_mode": {
    "name": "ipython",
    "version": 3
   },
   "file_extension": ".py",
   "mimetype": "text/x-python",
   "name": "python",
   "nbconvert_exporter": "python",
   "pygments_lexer": "ipython3",
   "version": "3.7.6"
  },
  "nteract": {
   "version": "0.15.0"
  }
 },
 "nbformat": 4,
 "nbformat_minor": 1
}
