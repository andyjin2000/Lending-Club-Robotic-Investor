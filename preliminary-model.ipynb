{
 "cells": [
  {
   "cell_type": "code",
   "execution_count": 1,
   "metadata": {},
   "outputs": [],
   "source": [
    "import pandas as pd\n",
    "import numpy as np\n",
    "import matplotlib.pyplot as plt\n",
    "%matplotlib inline\n",
    "import xgboost as xgb\n",
    "import seaborn as sns"
   ]
  },
  {
   "cell_type": "code",
   "execution_count": 5,
   "metadata": {},
   "outputs": [
    {
     "name": "stdout",
     "output_type": "stream",
     "text": [
      "Collecting package metadata (current_repodata.json): done\n",
      "Solving environment: done\n",
      "\n",
      "## Package Plan ##\n",
      "\n",
      "  environment location: /Users/andyjin/anaconda3\n",
      "\n",
      "  added / updated specs:\n",
      "    - py-xgboost\n",
      "\n",
      "\n",
      "The following packages will be downloaded:\n",
      "\n",
      "    package                    |            build\n",
      "    ---------------------------|-----------------\n",
      "    _py-xgboost-mutex-2.0      |            cpu_0           8 KB  anaconda\n",
      "    ca-certificates-2020.1.1   |                0         132 KB  anaconda\n",
      "    certifi-2019.11.28         |           py37_0         156 KB  anaconda\n",
      "    conda-4.8.3                |           py37_0         3.0 MB  anaconda\n",
      "    libxgboost-0.90            |       h0a44026_1         2.4 MB  anaconda\n",
      "    openssl-1.1.1d             |       h1de35cc_4         3.4 MB  anaconda\n",
      "    py-xgboost-0.90            |   py37h0a44026_1          77 KB  anaconda\n",
      "    ------------------------------------------------------------\n",
      "                                           Total:         9.2 MB\n",
      "\n",
      "The following NEW packages will be INSTALLED:\n",
      "\n",
      "  _py-xgboost-mutex  anaconda/osx-64::_py-xgboost-mutex-2.0-cpu_0\n",
      "  libxgboost         anaconda/osx-64::libxgboost-0.90-h0a44026_1\n",
      "  py-xgboost         anaconda/osx-64::py-xgboost-0.90-py37h0a44026_1\n",
      "\n",
      "The following packages will be SUPERSEDED by a higher-priority channel:\n",
      "\n",
      "  ca-certificates                                 pkgs/main --> anaconda\n",
      "  certifi                                         pkgs/main --> anaconda\n",
      "  conda                                           pkgs/main --> anaconda\n",
      "  openssl                                         pkgs/main --> anaconda\n",
      "\n",
      "\n",
      "\n",
      "Downloading and Extracting Packages\n",
      "_py-xgboost-mutex-2. | 8 KB      | ##################################### | 100% \n",
      "py-xgboost-0.90      | 77 KB     | ##################################### | 100% \n",
      "openssl-1.1.1d       | 3.4 MB    | ##################################### | 100% \n",
      "certifi-2019.11.28   | 156 KB    | ##################################### | 100% \n",
      "conda-4.8.3          | 3.0 MB    | ##################################### | 100% \n",
      "libxgboost-0.90      | 2.4 MB    | ##################################### | 100% \n",
      "ca-certificates-2020 | 132 KB    | ##################################### | 100% \n",
      "Preparing transaction: done\n",
      "Verifying transaction: done\n",
      "Executing transaction: done\n"
     ]
    }
   ],
   "source": [
    "!conda install -c anaconda py-xgboost --y"
   ]
  },
  {
   "cell_type": "code",
   "execution_count": 8,
   "metadata": {},
   "outputs": [],
   "source": [
    "import gc\n",
    "gc.enable()"
   ]
  },
  {
   "cell_type": "code",
   "execution_count": 9,
   "metadata": {},
   "outputs": [
    {
     "data": {
      "text/plain": [
       "48"
      ]
     },
     "execution_count": 9,
     "metadata": {},
     "output_type": "execute_result"
    }
   ],
   "source": [
    "gc.collect()"
   ]
  },
  {
   "cell_type": "markdown",
   "metadata": {},
   "source": [
    "## Load Data"
   ]
  },
  {
   "cell_type": "code",
   "execution_count": 2,
   "metadata": {},
   "outputs": [
    {
     "name": "stderr",
     "output_type": "stream",
     "text": [
      "/Users/andyjin/anaconda3/lib/python3.7/site-packages/IPython/core/interactiveshell.py:3063: DtypeWarning: Columns (118) have mixed types.Specify dtype option on import or set low_memory=False.\n",
      "  interactivity=interactivity, compiler=compiler, result=result)\n"
     ]
    }
   ],
   "source": [
    "train = pd.read_csv('loan_2017_hist.csv')\n",
    "test = pd.read_csv('loan_2017_curr.csv')"
   ]
  },
  {
   "cell_type": "code",
   "execution_count": 3,
   "metadata": {},
   "outputs": [
    {
     "data": {
      "text/plain": [
       "(324613, 150)"
      ]
     },
     "execution_count": 3,
     "metadata": {},
     "output_type": "execute_result"
    }
   ],
   "source": [
    "train.shape"
   ]
  },
  {
   "cell_type": "code",
   "execution_count": 7,
   "metadata": {},
   "outputs": [
    {
     "data": {
      "text/html": [
       "<div>\n",
       "<style scoped>\n",
       "    .dataframe tbody tr th:only-of-type {\n",
       "        vertical-align: middle;\n",
       "    }\n",
       "\n",
       "    .dataframe tbody tr th {\n",
       "        vertical-align: top;\n",
       "    }\n",
       "\n",
       "    .dataframe thead th {\n",
       "        text-align: right;\n",
       "    }\n",
       "</style>\n",
       "<table border=\"1\" class=\"dataframe\">\n",
       "  <thead>\n",
       "    <tr style=\"text-align: right;\">\n",
       "      <th></th>\n",
       "      <th>id</th>\n",
       "      <th>memberid</th>\n",
       "      <th>loanamnt</th>\n",
       "      <th>fundedamnt</th>\n",
       "      <th>fundedamntinv</th>\n",
       "      <th>term</th>\n",
       "      <th>intrate</th>\n",
       "      <th>installment</th>\n",
       "      <th>grade</th>\n",
       "      <th>subgrade</th>\n",
       "      <th>...</th>\n",
       "      <th>origprojectedadditionalaccruedinterest</th>\n",
       "      <th>hardshippayoffbalanceamount</th>\n",
       "      <th>hardshiplastpaymentamount</th>\n",
       "      <th>debtsettlementflag</th>\n",
       "      <th>debtsettlementflagdate</th>\n",
       "      <th>settlementstatus</th>\n",
       "      <th>settlementdate</th>\n",
       "      <th>settlementamount</th>\n",
       "      <th>settlementpercentage</th>\n",
       "      <th>settlementterm</th>\n",
       "    </tr>\n",
       "  </thead>\n",
       "  <tbody>\n",
       "    <tr>\n",
       "      <th>0</th>\n",
       "      <td>103508738</td>\n",
       "      <td>NaN</td>\n",
       "      <td>16000</td>\n",
       "      <td>16000</td>\n",
       "      <td>16000</td>\n",
       "      <td>60 months</td>\n",
       "      <td>12.74%</td>\n",
       "      <td>361.93</td>\n",
       "      <td>C</td>\n",
       "      <td>C1</td>\n",
       "      <td>...</td>\n",
       "      <td>NaN</td>\n",
       "      <td>NaN</td>\n",
       "      <td>NaN</td>\n",
       "      <td>N</td>\n",
       "      <td>NaN</td>\n",
       "      <td>NaN</td>\n",
       "      <td>NaN</td>\n",
       "      <td>NaN</td>\n",
       "      <td>NaN</td>\n",
       "      <td>NaN</td>\n",
       "    </tr>\n",
       "    <tr>\n",
       "      <th>1</th>\n",
       "      <td>104048783</td>\n",
       "      <td>NaN</td>\n",
       "      <td>13000</td>\n",
       "      <td>13000</td>\n",
       "      <td>13000</td>\n",
       "      <td>36 months</td>\n",
       "      <td>11.44%</td>\n",
       "      <td>428.32</td>\n",
       "      <td>B</td>\n",
       "      <td>B4</td>\n",
       "      <td>...</td>\n",
       "      <td>NaN</td>\n",
       "      <td>NaN</td>\n",
       "      <td>NaN</td>\n",
       "      <td>N</td>\n",
       "      <td>NaN</td>\n",
       "      <td>NaN</td>\n",
       "      <td>NaN</td>\n",
       "      <td>NaN</td>\n",
       "      <td>NaN</td>\n",
       "      <td>NaN</td>\n",
       "    </tr>\n",
       "    <tr>\n",
       "      <th>2</th>\n",
       "      <td>103470623</td>\n",
       "      <td>NaN</td>\n",
       "      <td>15400</td>\n",
       "      <td>15400</td>\n",
       "      <td>15400</td>\n",
       "      <td>60 months</td>\n",
       "      <td>11.39%</td>\n",
       "      <td>337.84</td>\n",
       "      <td>B</td>\n",
       "      <td>B3</td>\n",
       "      <td>...</td>\n",
       "      <td>NaN</td>\n",
       "      <td>NaN</td>\n",
       "      <td>NaN</td>\n",
       "      <td>N</td>\n",
       "      <td>NaN</td>\n",
       "      <td>NaN</td>\n",
       "      <td>NaN</td>\n",
       "      <td>NaN</td>\n",
       "      <td>NaN</td>\n",
       "      <td>NaN</td>\n",
       "    </tr>\n",
       "    <tr>\n",
       "      <th>3</th>\n",
       "      <td>104280288</td>\n",
       "      <td>NaN</td>\n",
       "      <td>3025</td>\n",
       "      <td>3025</td>\n",
       "      <td>3025</td>\n",
       "      <td>36 months</td>\n",
       "      <td>6.99%</td>\n",
       "      <td>93.39</td>\n",
       "      <td>A</td>\n",
       "      <td>A2</td>\n",
       "      <td>...</td>\n",
       "      <td>NaN</td>\n",
       "      <td>NaN</td>\n",
       "      <td>NaN</td>\n",
       "      <td>N</td>\n",
       "      <td>NaN</td>\n",
       "      <td>NaN</td>\n",
       "      <td>NaN</td>\n",
       "      <td>NaN</td>\n",
       "      <td>NaN</td>\n",
       "      <td>NaN</td>\n",
       "    </tr>\n",
       "    <tr>\n",
       "      <th>4</th>\n",
       "      <td>104070168</td>\n",
       "      <td>NaN</td>\n",
       "      <td>9000</td>\n",
       "      <td>9000</td>\n",
       "      <td>9000</td>\n",
       "      <td>36 months</td>\n",
       "      <td>11.39%</td>\n",
       "      <td>296.32</td>\n",
       "      <td>B</td>\n",
       "      <td>B3</td>\n",
       "      <td>...</td>\n",
       "      <td>NaN</td>\n",
       "      <td>NaN</td>\n",
       "      <td>NaN</td>\n",
       "      <td>N</td>\n",
       "      <td>NaN</td>\n",
       "      <td>NaN</td>\n",
       "      <td>NaN</td>\n",
       "      <td>NaN</td>\n",
       "      <td>NaN</td>\n",
       "      <td>NaN</td>\n",
       "    </tr>\n",
       "  </tbody>\n",
       "</table>\n",
       "<p>5 rows × 150 columns</p>\n",
       "</div>"
      ],
      "text/plain": [
       "          id  memberid  loanamnt  fundedamnt  fundedamntinv        term  \\\n",
       "0  103508738       NaN     16000       16000          16000   60 months   \n",
       "1  104048783       NaN     13000       13000          13000   36 months   \n",
       "2  103470623       NaN     15400       15400          15400   60 months   \n",
       "3  104280288       NaN      3025        3025           3025   36 months   \n",
       "4  104070168       NaN      9000        9000           9000   36 months   \n",
       "\n",
       "  intrate  installment grade subgrade  ...  \\\n",
       "0  12.74%       361.93     C       C1  ...   \n",
       "1  11.44%       428.32     B       B4  ...   \n",
       "2  11.39%       337.84     B       B3  ...   \n",
       "3   6.99%        93.39     A       A2  ...   \n",
       "4  11.39%       296.32     B       B3  ...   \n",
       "\n",
       "  origprojectedadditionalaccruedinterest hardshippayoffbalanceamount  \\\n",
       "0                                    NaN                         NaN   \n",
       "1                                    NaN                         NaN   \n",
       "2                                    NaN                         NaN   \n",
       "3                                    NaN                         NaN   \n",
       "4                                    NaN                         NaN   \n",
       "\n",
       "  hardshiplastpaymentamount  debtsettlementflag debtsettlementflagdate  \\\n",
       "0                       NaN                   N                    NaN   \n",
       "1                       NaN                   N                    NaN   \n",
       "2                       NaN                   N                    NaN   \n",
       "3                       NaN                   N                    NaN   \n",
       "4                       NaN                   N                    NaN   \n",
       "\n",
       "  settlementstatus settlementdate settlementamount settlementpercentage  \\\n",
       "0              NaN            NaN              NaN                  NaN   \n",
       "1              NaN            NaN              NaN                  NaN   \n",
       "2              NaN            NaN              NaN                  NaN   \n",
       "3              NaN            NaN              NaN                  NaN   \n",
       "4              NaN            NaN              NaN                  NaN   \n",
       "\n",
       "   settlementterm  \n",
       "0             NaN  \n",
       "1             NaN  \n",
       "2             NaN  \n",
       "3             NaN  \n",
       "4             NaN  \n",
       "\n",
       "[5 rows x 150 columns]"
      ]
     },
     "execution_count": 7,
     "metadata": {},
     "output_type": "execute_result"
    }
   ],
   "source": [
    "train[:5][:5]"
   ]
  },
  {
   "cell_type": "code",
   "execution_count": 8,
   "metadata": {
    "scrolled": true
   },
   "outputs": [
    {
     "name": "stdout",
     "output_type": "stream",
     "text": [
      "<class 'pandas.core.frame.DataFrame'>\n",
      "RangeIndex: 324613 entries, 0 to 324612\n",
      "Columns: 150 entries, id to settlementterm\n",
      "dtypes: float64(56), int64(57), object(37)\n",
      "memory usage: 371.5+ MB\n"
     ]
    }
   ],
   "source": [
    "train.info()"
   ]
  },
  {
   "cell_type": "code",
   "execution_count": 59,
   "metadata": {},
   "outputs": [
    {
     "data": {
      "text/plain": [
       "(443139, 150)"
      ]
     },
     "execution_count": 59,
     "metadata": {},
     "output_type": "execute_result"
    }
   ],
   "source": [
    "df = train.append(test)\n",
    "df.shape"
   ]
  },
  {
   "cell_type": "code",
   "execution_count": 60,
   "metadata": {},
   "outputs": [],
   "source": [
    "cols = df.columns"
   ]
  },
  {
   "cell_type": "markdown",
   "metadata": {},
   "source": [
    "## Select Data"
   ]
  },
  {
   "cell_type": "code",
   "execution_count": 61,
   "metadata": {},
   "outputs": [],
   "source": [
    "all_null_feature=[]\n",
    "num_feature=[]\n",
    "ob_feature=[]\n",
    "\n",
    "for col in cols:\n",
    "    if df[col].isnull().sum()==df.shape[0]:\n",
    "        all_null_feature.append(col)\n",
    "    else:\n",
    "        if df[col].dtype == 'object':\n",
    "            ob_feature.append(col)\n",
    "        else:\n",
    "            num_feature.append(col)"
   ]
  },
  {
   "cell_type": "code",
   "execution_count": 62,
   "metadata": {},
   "outputs": [
    {
     "name": "stdout",
     "output_type": "stream",
     "text": [
      "['memberid', 'desc']\n"
     ]
    }
   ],
   "source": [
    "print(all_null_feature)"
   ]
  },
  {
   "cell_type": "code",
   "execution_count": 63,
   "metadata": {},
   "outputs": [
    {
     "name": "stdout",
     "output_type": "stream",
     "text": [
      "['id', 'loanamnt', 'fundedamnt', 'fundedamntinv', 'installment', 'annualinc', 'dti', 'delinq2yrs', 'ficorangelow', 'ficorangehigh', 'inqlast6mths', 'mthssincelastdelinq', 'mthssincelastrecord', 'openacc', 'pubrec', 'revolbal', 'totalacc', 'outprncp', 'outprncpinv', 'totalpymnt', 'totalpymntinv', 'totalrecprncp', 'totalrecint', 'totalreclatefee', 'recoveries', 'collectionrecoveryfee', 'lastpymntamnt', 'lastficorangehigh', 'lastficorangelow', 'collections12mthsexmed', 'mthssincelastmajorderog', 'policycode', 'annualincjoint', 'dtijoint', 'accnowdelinq', 'totcollamt', 'totcurbal', 'openacc6m', 'openactil', 'openil12m', 'openil24m', 'mthssincercntil', 'totalbalil', 'ilutil', 'openrv12m', 'openrv24m', 'maxbalbc', 'allutil', 'totalrevhilim', 'inqfi', 'totalcutl', 'inqlast12m', 'accopenpast24mths', 'avgcurbal', 'bcopentobuy', 'bcutil', 'chargeoffwithin12mths', 'delinqamnt', 'mosinoldilacct', 'mosinoldrevtlop', 'mosinrcntrevtlop', 'mosinrcnttl', 'mortacc', 'mthssincerecentbc', 'mthssincerecentbcdlq', 'mthssincerecentinq', 'mthssincerecentrevoldelinq', 'numacctsever120pd', 'numactvbctl', 'numactvrevtl', 'numbcsats', 'numbctl', 'numiltl', 'numoprevtl', 'numrevaccts', 'numrevtlbalgt0', 'numsats', 'numtl120dpd2m', 'numtl30dpd', 'numtl90gdpd24m', 'numtloppast12m', 'pcttlnvrdlq', 'percentbcgt75', 'pubrecbankruptcies', 'taxliens', 'tothicredlim', 'totalbalexmort', 'totalbclimit', 'totalilhighcreditlimit', 'revolbaljoint', 'secappficorangelow', 'secappficorangehigh', 'secappinqlast6mths', 'secappmortacc', 'secappopenacc', 'secapprevolutil', 'secappopenactil', 'secappnumrevaccts', 'secappchargeoffwithin12mths', 'secappcollections12mthsexmed', 'secappmthssincelastmajorderog', 'deferralterm', 'hardshipamount', 'hardshiplength', 'hardshipdpd', 'origprojectedadditionalaccruedinterest', 'hardshippayoffbalanceamount', 'hardshiplastpaymentamount', 'settlementamount', 'settlementpercentage', 'settlementterm']\n"
     ]
    }
   ],
   "source": [
    "print(num_feature)"
   ]
  },
  {
   "cell_type": "code",
   "execution_count": 64,
   "metadata": {},
   "outputs": [
    {
     "name": "stdout",
     "output_type": "stream",
     "text": [
      "['term', 'intrate', 'grade', 'subgrade', 'emptitle', 'emplength', 'homeownership', 'verificationstatus', 'issued', 'loanstatus', 'pymntplan', 'url', 'purpose', 'title', 'zipcode', 'addrstate', 'earliestcrline', 'revolutil', 'initialliststatus', 'lastpymntd', 'nextpymntd', 'lastcreditpulld', 'applicationtype', 'verificationstatusjoint', 'secappearliestcrline', 'hardshipflag', 'hardshiptype', 'hardshipreason', 'hardshipstatus', 'hardshipstartdate', 'hardshipenddate', 'paymentplanstartdate', 'hardshiploanstatus', 'debtsettlementflag', 'debtsettlementflagdate', 'settlementstatus', 'settlementdate']\n"
     ]
    }
   ],
   "source": [
    "print(ob_feature)"
   ]
  },
  {
   "cell_type": "code",
   "execution_count": 66,
   "metadata": {},
   "outputs": [],
   "source": [
    "all_null_feature=['memberid', 'desc', 'secappopenactil',\n",
    " 'secappnumrevaccts',\n",
    " 'secappmthssincelastmajorderog',\n",
    " 'secappcollections12mthsexmed',\n",
    " 'revolbaljoint',\n",
    " 'secappopenacc',\n",
    " 'secappficorangelow',\n",
    " 'memberid',\n",
    " 'secappmortacc',\n",
    " 'secappearliestcrline',\n",
    " 'secappchargeoffwithin12mths',\n",
    " 'secapprevolutil',\n",
    " 'secappficorangehigh',\n",
    " 'secappinqlast6mths']"
   ]
  },
  {
   "cell_type": "code",
   "execution_count": 67,
   "metadata": {},
   "outputs": [],
   "source": [
    "ob_feature=['initialliststatus',\n",
    " 'grade',\n",
    " 'subgrade',\n",
    " 'verificationstatusjoint',\n",
    " 'earliestcrline',\n",
    " 'applicationtype',\n",
    " 'intrate',\n",
    " 'desc',\n",
    " 'term',\n",
    " 'homeownership',\n",
    " 'addrstate',\n",
    " 'revolutil',\n",
    " 'zipcode',\n",
    " 'verificationstatus',\n",
    " 'emptitle',\n",
    " 'emplength',\n",
    " 'purpose',\n",
    " 'issued',\n",
    " 'loanstatus']"
   ]
  },
  {
   "cell_type": "code",
   "execution_count": 68,
   "metadata": {},
   "outputs": [],
   "source": [
    "num_feature=['bcopentobuy',\n",
    " 'numactvbctl',\n",
    " 'mthssincelastrecord',\n",
    " 'totcurbal',\n",
    " 'mosinrcnttl',\n",
    " 'openrv12m',\n",
    " 'inqlast12m',\n",
    " 'mortacc',\n",
    " 'mthssincelastdelinq',\n",
    " 'numactvrevtl',\n",
    " 'tothicredlim',\n",
    " 'ficorangehigh',\n",
    " 'maxbalbc',\n",
    " 'openil24m',\n",
    " 'numbctl',\n",
    " 'totalrevhilim',\n",
    " 'totcollamt',\n",
    " 'numtl120dpd2m',\n",
    " 'totalbalexmort',\n",
    " 'annualincjoint',\n",
    " 'ficorangelow',\n",
    " 'totalacc',\n",
    " 'mthssincerecentbcdlq',\n",
    " 'installment',\n",
    " 'numrevaccts',\n",
    " 'pubrec',\n",
    " 'accopenpast24mths',\n",
    " 'numoprevtl',\n",
    " 'avgcurbal',\n",
    " 'openactil',\n",
    " 'dti',\n",
    " 'openacc6m',\n",
    " 'totalbalil',\n",
    " 'delinq2yrs',\n",
    " 'fundedamnt',\n",
    " 'mosinoldilacct',\n",
    " 'annualinc',\n",
    " 'inqfi',\n",
    " 'numtl30dpd',\n",
    " 'loanamnt',\n",
    " 'numsats',\n",
    " 'mthssincerecentrevoldelinq',\n",
    " 'mthssincerecentbc',\n",
    " 'id',\n",
    " 'revolbal',\n",
    " 'inqlast6mths',\n",
    " 'mthssincercntil',\n",
    " 'openrv24m',\n",
    " 'totalilhighcreditlimit',\n",
    " 'collections12mthsexmed',\n",
    " 'chargeoffwithin12mths',\n",
    " 'numtl90gdpd24m',\n",
    " 'delinqamnt',\n",
    " 'mosinoldrevtlop',\n",
    " 'taxliens',\n",
    " 'numbcsats',\n",
    " 'totalbclimit',\n",
    " 'dtijoint',\n",
    " 'numacctsever120pd',\n",
    " 'accnowdelinq',\n",
    " 'openil12m',\n",
    " 'pcttlnvrdlq',\n",
    " 'bcutil',\n",
    " 'mthssincerecentinq',\n",
    " 'numiltl',\n",
    " 'mosinrcntrevtlop',\n",
    " 'allutil',\n",
    " 'openacc',\n",
    " 'numrevtlbalgt0',\n",
    " 'totalcutl',\n",
    " 'mthssincelastmajorderog',\n",
    " 'numtloppast12m',\n",
    " 'percentbcgt75',\n",
    " 'pubrecbankruptcies',\n",
    " 'ilutil']"
   ]
  },
  {
   "cell_type": "code",
   "execution_count": 69,
   "metadata": {},
   "outputs": [
    {
     "data": {
      "text/plain": [
       "94"
      ]
     },
     "execution_count": 69,
     "metadata": {},
     "output_type": "execute_result"
    }
   ],
   "source": [
    "select_feature=ob_feature+num_feature\n",
    "len(select_feature)"
   ]
  },
  {
   "cell_type": "code",
   "execution_count": 70,
   "metadata": {},
   "outputs": [],
   "source": [
    "# remove fundedamnt since it always equals to 1 for issued loans and varied during different time of a current loan\n",
    "num_feature.remove('fundedamnt')"
   ]
  },
  {
   "cell_type": "code",
   "execution_count": 71,
   "metadata": {},
   "outputs": [],
   "source": [
    "# remove 'id','issued' and 'loanstatus', since they are index, train/test flag and target\n",
    "num_feature.remove('id')\n",
    "ob_feature.remove('loanstatus')\n",
    "ob_feature.remove('issued')"
   ]
  },
  {
   "cell_type": "code",
   "execution_count": 72,
   "metadata": {},
   "outputs": [
    {
     "data": {
      "text/plain": [
       "90"
      ]
     },
     "execution_count": 72,
     "metadata": {},
     "output_type": "execute_result"
    }
   ],
   "source": [
    "select_feature=ob_feature+num_feature\n",
    "len(select_feature)"
   ]
  },
  {
   "cell_type": "code",
   "execution_count": 73,
   "metadata": {},
   "outputs": [],
   "source": [
    "# selected features left\n",
    "df = df[select_feature+['id','loanstatus','issued']]"
   ]
  },
  {
   "cell_type": "code",
   "execution_count": 74,
   "metadata": {},
   "outputs": [
    {
     "data": {
      "text/plain": [
       "(443139, 93)"
      ]
     },
     "execution_count": 74,
     "metadata": {},
     "output_type": "execute_result"
    }
   ],
   "source": [
    "df.shape"
   ]
  },
  {
   "cell_type": "markdown",
   "metadata": {},
   "source": [
    "## only use term=36 months and loanstatus = fully paid and charged off"
   ]
  },
  {
   "cell_type": "code",
   "execution_count": 75,
   "metadata": {},
   "outputs": [],
   "source": [
    "df = df.query(\"loanstatus == 'Fully Paid' or loanstatus == 'Charged Off' \")"
   ]
  },
  {
   "cell_type": "code",
   "execution_count": 76,
   "metadata": {},
   "outputs": [],
   "source": [
    "df = df.query(\"term ==' 36 months'\")"
   ]
  },
  {
   "cell_type": "code",
   "execution_count": 77,
   "metadata": {},
   "outputs": [
    {
     "data": {
      "text/plain": [
       "(207410, 93)"
      ]
     },
     "execution_count": 77,
     "metadata": {},
     "output_type": "execute_result"
    }
   ],
   "source": [
    "df.shape"
   ]
  },
  {
   "cell_type": "code",
   "execution_count": 78,
   "metadata": {},
   "outputs": [],
   "source": [
    "ob_feature.remove('term')"
   ]
  },
  {
   "cell_type": "code",
   "execution_count": 79,
   "metadata": {},
   "outputs": [
    {
     "data": {
      "text/plain": [
       "(207410, 93)"
      ]
     },
     "execution_count": 79,
     "metadata": {},
     "output_type": "execute_result"
    }
   ],
   "source": [
    "df.shape"
   ]
  },
  {
   "cell_type": "markdown",
   "metadata": {},
   "source": [
    "## Label Target"
   ]
  },
  {
   "cell_type": "code",
   "execution_count": 80,
   "metadata": {},
   "outputs": [],
   "source": [
    "df['loanstatus'] = df.loanstatus.map({\"Charged Off\": 1, \"Fully Paid\": 0})"
   ]
  },
  {
   "cell_type": "code",
   "execution_count": 81,
   "metadata": {},
   "outputs": [
    {
     "name": "stdout",
     "output_type": "stream",
     "text": [
      "0    167212\n",
      "1     40198\n",
      "Name: loanstatus, dtype: int64\n",
      "0    0.806191\n",
      "1    0.193809\n",
      "Name: loanstatus, dtype: float64\n"
     ]
    }
   ],
   "source": [
    "print(df.loanstatus.value_counts())\n",
    "print(df.loanstatus.value_counts(normalize=True))"
   ]
  },
  {
   "cell_type": "markdown",
   "metadata": {},
   "source": [
    "## Out of time testing set and in-time training set: Oct~Dec as test)"
   ]
  },
  {
   "cell_type": "code",
   "execution_count": 82,
   "metadata": {},
   "outputs": [
    {
     "data": {
      "text/plain": [
       "['Mar-17',\n",
       " 'Feb-17',\n",
       " 'Jan-17',\n",
       " 'Jun-17',\n",
       " 'May-17',\n",
       " 'Apr-17',\n",
       " 'Sep-17',\n",
       " 'Aug-17',\n",
       " 'Jul-17',\n",
       " 'Dec-17',\n",
       " 'Nov-17',\n",
       " 'Oct-17']"
      ]
     },
     "execution_count": 82,
     "metadata": {},
     "output_type": "execute_result"
    }
   ],
   "source": [
    "issued=list(df['issued'].unique())\n",
    "issued"
   ]
  },
  {
   "cell_type": "code",
   "execution_count": 83,
   "metadata": {},
   "outputs": [
    {
     "data": {
      "text/plain": [
       "Jan-17    23259\n",
       "Mar-17    19583\n",
       "Aug-17    19415\n",
       "May-17    18265\n",
       "Jun-17    17774\n",
       "Jul-17    17719\n",
       "Feb-17    17020\n",
       "Nov-17    15677\n",
       "Sep-17    15623\n",
       "Oct-17    14941\n",
       "Apr-17    14843\n",
       "Dec-17    13291\n",
       "Name: issued, dtype: int64"
      ]
     },
     "execution_count": 83,
     "metadata": {},
     "output_type": "execute_result"
    }
   ],
   "source": [
    "df.issued.value_counts()"
   ]
  },
  {
   "cell_type": "code",
   "execution_count": 84,
   "metadata": {},
   "outputs": [
    {
     "data": {
      "text/plain": [
       "1    163501\n",
       "0     43909\n",
       "Name: train_flg, dtype: int64"
      ]
     },
     "execution_count": 84,
     "metadata": {},
     "output_type": "execute_result"
    }
   ],
   "source": [
    "df['train_flg'] = df.issued.apply(lambda x: 0 if x in ['Oct-17','Nov-17','Dec-17'] else 1)\n",
    "df.train_flg.value_counts()"
   ]
  },
  {
   "cell_type": "markdown",
   "metadata": {},
   "source": [
    "## Feature Engineering & Cleaning"
   ]
  },
  {
   "cell_type": "markdown",
   "metadata": {},
   "source": [
    "#### Datetime to numeric feature"
   ]
  },
  {
   "cell_type": "code",
   "execution_count": 85,
   "metadata": {},
   "outputs": [
    {
     "data": {
      "text/plain": [
       "['initialliststatus',\n",
       " 'grade',\n",
       " 'subgrade',\n",
       " 'verificationstatusjoint',\n",
       " 'earliestcrline',\n",
       " 'applicationtype',\n",
       " 'intrate',\n",
       " 'desc',\n",
       " 'homeownership',\n",
       " 'addrstate',\n",
       " 'revolutil',\n",
       " 'zipcode',\n",
       " 'verificationstatus',\n",
       " 'emptitle',\n",
       " 'emplength',\n",
       " 'purpose']"
      ]
     },
     "execution_count": 85,
     "metadata": {},
     "output_type": "execute_result"
    }
   ],
   "source": [
    "ob_feature"
   ]
  },
  {
   "cell_type": "code",
   "execution_count": 87,
   "metadata": {},
   "outputs": [
    {
     "data": {
      "text/plain": [
       "array(['Apr-00', 'Aug-95', 'Oct-07', 'Apr-07', 'Apr-06'], dtype=object)"
      ]
     },
     "execution_count": 87,
     "metadata": {},
     "output_type": "execute_result"
    }
   ],
   "source": [
    "df.earliestcrline.unique()[:5]"
   ]
  },
  {
   "cell_type": "code",
   "execution_count": 89,
   "metadata": {},
   "outputs": [],
   "source": [
    "# convert to number of months to Dec 2017"
   ]
  },
  {
   "cell_type": "code",
   "execution_count": 90,
   "metadata": {},
   "outputs": [],
   "source": [
    "cl_month=df.earliestcrline.apply(lambda x: x.split('-')[0])\n",
    "cl_year=df.earliestcrline.apply(lambda x: int(x.split('-')[1]))"
   ]
  },
  {
   "cell_type": "code",
   "execution_count": 91,
   "metadata": {},
   "outputs": [
    {
     "data": {
      "text/plain": [
       "array(['Apr', 'Aug', 'Oct', 'Jun', 'Sep', 'May', 'Dec', 'Jan', 'Mar',\n",
       "       'Nov', 'Jul', 'Feb'], dtype=object)"
      ]
     },
     "execution_count": 91,
     "metadata": {},
     "output_type": "execute_result"
    }
   ],
   "source": [
    "cl_month.unique()"
   ]
  },
  {
   "cell_type": "code",
   "execution_count": 92,
   "metadata": {},
   "outputs": [
    {
     "data": {
      "text/plain": [
       "array([ 0, 95,  7,  6,  9,  5, 96, 73, 97,  1, 74, 92,  3,  4, 89, 93, 99,\n",
       "        2, 94, 79, 91, 83, 88,  8, 10, 81, 90, 98, 13, 12, 85, 86, 11, 82,\n",
       "       84, 80, 87, 77, 69, 66, 14, 78, 72, 68, 76, 75, 67, 65, 70, 60, 64,\n",
       "       63, 71, 61, 52, 58, 53, 56, 59, 62, 57, 51, 34, 54])"
      ]
     },
     "execution_count": 92,
     "metadata": {},
     "output_type": "execute_result"
    }
   ],
   "source": [
    "cl_year.unique()"
   ]
  },
  {
   "cell_type": "code",
   "execution_count": 93,
   "metadata": {},
   "outputs": [],
   "source": [
    "dic_month= {'Jan':11,'Feb':10,'Mar':9,'Apr':8, 'May':7, 'Jun':6, 'Jul':5, 'Aug':4, 'Sep':3, 'Oct':2, 'Nov':1, 'Dec':0}"
   ]
  },
  {
   "cell_type": "code",
   "execution_count": 96,
   "metadata": {},
   "outputs": [
    {
     "data": {
      "text/plain": [
       "4         Apr-00\n",
       "5         Aug-95\n",
       "6         Oct-07\n",
       "9         Apr-07\n",
       "11        Apr-06\n",
       "           ...  \n",
       "118496    Jan-02\n",
       "118497    Nov-97\n",
       "118501    Mar-92\n",
       "118503    Dec-05\n",
       "118504    Aug-95\n",
       "Name: earliestcrline, Length: 207410, dtype: object"
      ]
     },
     "execution_count": 96,
     "metadata": {},
     "output_type": "execute_result"
    }
   ],
   "source": [
    "df.earliestcrline"
   ]
  },
  {
   "cell_type": "code",
   "execution_count": 99,
   "metadata": {},
   "outputs": [],
   "source": [
    "def months_till_dec_2017(date):\n",
    "    year = int(date.split('-')[1])\n",
    "    month = date.split('-')[0]\n",
    "    \n",
    "    if year < 17:\n",
    "        year = 2000 + year\n",
    "    else:\n",
    "        year = 1900 + year\n",
    "    \n",
    "    return (2017 - year) * 12 + dic_month[month]\n",
    "\n",
    "df['earliestcrline_month']=df.earliestcrline.apply(lambda x: months_till_dec_2017(x))"
   ]
  },
  {
   "cell_type": "code",
   "execution_count": 100,
   "metadata": {},
   "outputs": [
    {
     "data": {
      "text/plain": [
       "4         212\n",
       "5         268\n",
       "6         122\n",
       "9         128\n",
       "11        140\n",
       "         ... \n",
       "118496    191\n",
       "118497    241\n",
       "118501    309\n",
       "118503    144\n",
       "118504    268\n",
       "Name: earliestcrline_month, Length: 207410, dtype: int64"
      ]
     },
     "execution_count": 100,
     "metadata": {},
     "output_type": "execute_result"
    }
   ],
   "source": [
    "df.earliestcrline_month"
   ]
  },
  {
   "cell_type": "code",
   "execution_count": 101,
   "metadata": {},
   "outputs": [],
   "source": [
    "num_feature.append('earliestcrline_month')\n",
    "ob_feature.remove('earliestcrline')"
   ]
  },
  {
   "cell_type": "code",
   "execution_count": 103,
   "metadata": {},
   "outputs": [
    {
     "name": "stdout",
     "output_type": "stream",
     "text": [
      "15 74\n"
     ]
    }
   ],
   "source": [
    "print(len(ob_feature), len(num_feature))"
   ]
  },
  {
   "cell_type": "markdown",
   "metadata": {},
   "source": [
    "### emplength to numeric feature"
   ]
  },
  {
   "cell_type": "code",
   "execution_count": 104,
   "metadata": {},
   "outputs": [
    {
     "name": "stdout",
     "output_type": "stream",
     "text": [
      "15848\n"
     ]
    },
    {
     "data": {
      "text/plain": [
       "array(['10+ years', '6 years', '4 years', '3 years', '1 year', nan,\n",
       "       '5 years', '8 years', '2 years', '< 1 year', '9 years', '7 years'],\n",
       "      dtype=object)"
      ]
     },
     "execution_count": 104,
     "metadata": {},
     "output_type": "execute_result"
    }
   ],
   "source": [
    "print(df['emplength'].isnull().sum())\n",
    "df['emplength'].unique()"
   ]
  },
  {
   "cell_type": "code",
   "execution_count": 105,
   "metadata": {},
   "outputs": [],
   "source": [
    "df['emplength'].replace('n/a', np.nan, inplace=True)\n",
    "df['emplength'].replace('< 1 year', '0', inplace=True)\n",
    "df['emplength'].replace(to_replace='[^0-9]+', value='', inplace=True, regex=True)\n",
    "df.emplength.fillna(value=-999,inplace=True)\n",
    "df['emplength'] = df['emplength'].astype(int)"
   ]
  },
  {
   "cell_type": "code",
   "execution_count": 106,
   "metadata": {},
   "outputs": [
    {
     "data": {
      "text/plain": [
       " 10     65482\n",
       " 2      19984\n",
       " 0      19086\n",
       " 3      17396\n",
       "-999    15848\n",
       " 1      14289\n",
       " 4      13043\n",
       " 5      12718\n",
       " 6       9000\n",
       " 7       7453\n",
       " 9       6955\n",
       " 8       6156\n",
       "Name: emplength, dtype: int64"
      ]
     },
     "execution_count": 106,
     "metadata": {},
     "output_type": "execute_result"
    }
   ],
   "source": [
    "df.emplength.value_counts()"
   ]
  },
  {
   "cell_type": "code",
   "execution_count": 108,
   "metadata": {},
   "outputs": [
    {
     "name": "stdout",
     "output_type": "stream",
     "text": [
      "75 14\n"
     ]
    }
   ],
   "source": [
    "num_feature.append('emplength')\n",
    "ob_feature.remove('emplength')\n",
    "print(len(num_feature), len(ob_feature))"
   ]
  },
  {
   "cell_type": "markdown",
   "metadata": {},
   "source": [
    "## % to numeric feature: intrate, revolutil"
   ]
  },
  {
   "cell_type": "code",
   "execution_count": 109,
   "metadata": {},
   "outputs": [],
   "source": [
    "intrate=df.intrate.apply(lambda x: float(x.replace('%','')))"
   ]
  },
  {
   "cell_type": "code",
   "execution_count": 110,
   "metadata": {},
   "outputs": [
    {
     "data": {
      "text/plain": [
       "4    11.39\n",
       "5     6.99\n",
       "Name: intrate, dtype: float64"
      ]
     },
     "execution_count": 110,
     "metadata": {},
     "output_type": "execute_result"
    }
   ],
   "source": [
    "df.intrate=intrate\n",
    "df.intrate[:2]"
   ]
  },
  {
   "cell_type": "code",
   "execution_count": 111,
   "metadata": {},
   "outputs": [
    {
     "data": {
      "text/plain": [
       "4       30%\n",
       "5       24%\n",
       "6    44.90%\n",
       "Name: revolutil, dtype: object"
      ]
     },
     "execution_count": 111,
     "metadata": {},
     "output_type": "execute_result"
    }
   ],
   "source": [
    "df.revolutil[:3]"
   ]
  },
  {
   "cell_type": "code",
   "execution_count": 112,
   "metadata": {},
   "outputs": [],
   "source": [
    "revolutil=df.revolutil.apply(lambda x: str(x).replace('%','')).astype(float)"
   ]
  },
  {
   "cell_type": "code",
   "execution_count": 113,
   "metadata": {},
   "outputs": [
    {
     "data": {
      "text/plain": [
       "4    30.0\n",
       "5    24.0\n",
       "Name: revolutil, dtype: float64"
      ]
     },
     "execution_count": 113,
     "metadata": {},
     "output_type": "execute_result"
    }
   ],
   "source": [
    "df.revolutil=revolutil\n",
    "df.revolutil[:2]"
   ]
  },
  {
   "cell_type": "code",
   "execution_count": 114,
   "metadata": {},
   "outputs": [],
   "source": [
    "ob_feature.remove('intrate')\n",
    "num_feature.append('intrate')\n",
    "ob_feature.remove('revolutil')\n",
    "num_feature.append('revolutil')"
   ]
  },
  {
   "cell_type": "code",
   "execution_count": 116,
   "metadata": {},
   "outputs": [
    {
     "name": "stdout",
     "output_type": "stream",
     "text": [
      "12 77\n"
     ]
    }
   ],
   "source": [
    "print(len(ob_feature), len(num_feature))"
   ]
  },
  {
   "cell_type": "markdown",
   "metadata": {},
   "source": [
    "#### Ordinal feature encoding : grade, subgrade"
   ]
  },
  {
   "cell_type": "code",
   "execution_count": 117,
   "metadata": {},
   "outputs": [],
   "source": [
    "Dic_grade = {\"A\": 1, \n",
    "            \"B\": 2, \n",
    "            \"C\": 3, \n",
    "            \"D\": 4, \n",
    "            \"E\": 5,\n",
    "            \"F\": 6, \n",
    "            \"G\": 7}"
   ]
  },
  {
   "cell_type": "code",
   "execution_count": 118,
   "metadata": {},
   "outputs": [],
   "source": [
    "df.grade = df.grade.map(Dic_grade)"
   ]
  },
  {
   "cell_type": "code",
   "execution_count": 119,
   "metadata": {},
   "outputs": [],
   "source": [
    "df.subgrade = df.subgrade.apply(lambda x: (Dic_grade[x[0]] - 1) * 5 + int(x[1]))"
   ]
  },
  {
   "cell_type": "code",
   "execution_count": 120,
   "metadata": {},
   "outputs": [],
   "source": [
    "ob_feature.remove('grade')\n",
    "num_feature.append('grade')\n",
    "ob_feature.remove('subgrade')\n",
    "num_feature.append('subgrade')"
   ]
  },
  {
   "cell_type": "code",
   "execution_count": 122,
   "metadata": {},
   "outputs": [
    {
     "name": "stdout",
     "output_type": "stream",
     "text": [
      "10 79\n"
     ]
    }
   ],
   "source": [
    "print(len(ob_feature), len(num_feature))"
   ]
  },
  {
   "cell_type": "markdown",
   "metadata": {},
   "source": [
    "### High cardinality feature encoding"
   ]
  },
  {
   "cell_type": "markdown",
   "metadata": {},
   "source": [
    "###### Zip Code - frequency encoding "
   ]
  },
  {
   "cell_type": "code",
   "execution_count": 129,
   "metadata": {},
   "outputs": [],
   "source": [
    "df = df[df['zipcode'].notna()]"
   ]
  },
  {
   "cell_type": "code",
   "execution_count": 130,
   "metadata": {},
   "outputs": [
    {
     "name": "stdout",
     "output_type": "stream",
     "text": [
      "889 ['761xx' '852xx' '983xx' '021xx' '307xx']\n"
     ]
    }
   ],
   "source": [
    "print(df.zipcode.nunique(), df.zipcode.unique()[:5])"
   ]
  },
  {
   "cell_type": "code",
   "execution_count": 131,
   "metadata": {},
   "outputs": [],
   "source": [
    "# convert zipcode to int\n",
    "df.zipcode = df.zipcode.apply(lambda x: int(x[0:3]))"
   ]
  },
  {
   "cell_type": "code",
   "execution_count": 132,
   "metadata": {},
   "outputs": [
    {
     "data": {
      "text/plain": [
       "4     761\n",
       "5     852\n",
       "6     983\n",
       "9      21\n",
       "11    307\n",
       "Name: zipcode, dtype: int64"
      ]
     },
     "execution_count": 132,
     "metadata": {},
     "output_type": "execute_result"
    }
   ],
   "source": [
    "df.zipcode[:5]"
   ]
  },
  {
   "cell_type": "code",
   "execution_count": 133,
   "metadata": {},
   "outputs": [],
   "source": [
    "zipcode_freq = df.groupby(\"zipcode\").size().reset_index()"
   ]
  },
  {
   "cell_type": "code",
   "execution_count": 134,
   "metadata": {},
   "outputs": [
    {
     "data": {
      "text/html": [
       "<div>\n",
       "<style scoped>\n",
       "    .dataframe tbody tr th:only-of-type {\n",
       "        vertical-align: middle;\n",
       "    }\n",
       "\n",
       "    .dataframe tbody tr th {\n",
       "        vertical-align: top;\n",
       "    }\n",
       "\n",
       "    .dataframe thead th {\n",
       "        text-align: right;\n",
       "    }\n",
       "</style>\n",
       "<table border=\"1\" class=\"dataframe\">\n",
       "  <thead>\n",
       "    <tr style=\"text-align: right;\">\n",
       "      <th></th>\n",
       "      <th>zipcode</th>\n",
       "      <th>0</th>\n",
       "    </tr>\n",
       "  </thead>\n",
       "  <tbody>\n",
       "    <tr>\n",
       "      <th>0</th>\n",
       "      <td>8</td>\n",
       "      <td>1</td>\n",
       "    </tr>\n",
       "    <tr>\n",
       "      <th>1</th>\n",
       "      <td>10</td>\n",
       "      <td>307</td>\n",
       "    </tr>\n",
       "    <tr>\n",
       "      <th>2</th>\n",
       "      <td>11</td>\n",
       "      <td>115</td>\n",
       "    </tr>\n",
       "    <tr>\n",
       "      <th>3</th>\n",
       "      <td>12</td>\n",
       "      <td>76</td>\n",
       "    </tr>\n",
       "    <tr>\n",
       "      <th>4</th>\n",
       "      <td>13</td>\n",
       "      <td>42</td>\n",
       "    </tr>\n",
       "  </tbody>\n",
       "</table>\n",
       "</div>"
      ],
      "text/plain": [
       "   zipcode    0\n",
       "0        8    1\n",
       "1       10  307\n",
       "2       11  115\n",
       "3       12   76\n",
       "4       13   42"
      ]
     },
     "execution_count": 134,
     "metadata": {},
     "output_type": "execute_result"
    }
   ],
   "source": [
    "zipcode_freq[:5]"
   ]
  },
  {
   "cell_type": "code",
   "execution_count": 135,
   "metadata": {},
   "outputs": [],
   "source": [
    "zipcode_freq.columns = [\"zipcode\", \"zipcode_freq\"]"
   ]
  },
  {
   "cell_type": "code",
   "execution_count": 136,
   "metadata": {},
   "outputs": [],
   "source": [
    "df = pd.merge(df, zipcode_freq, how = \"left\", on = \"zipcode\")"
   ]
  },
  {
   "cell_type": "code",
   "execution_count": 137,
   "metadata": {},
   "outputs": [
    {
     "data": {
      "text/plain": [
       "0     700\n",
       "1    1410\n",
       "2     525\n",
       "3     973\n",
       "4     176\n",
       "Name: zipcode_freq, dtype: int64"
      ]
     },
     "execution_count": 137,
     "metadata": {},
     "output_type": "execute_result"
    }
   ],
   "source": [
    "df.zipcode_freq[:5]"
   ]
  },
  {
   "cell_type": "code",
   "execution_count": 139,
   "metadata": {},
   "outputs": [
    {
     "name": "stdout",
     "output_type": "stream",
     "text": [
      "9 81\n"
     ]
    }
   ],
   "source": [
    "ob_feature.remove('zipcode')\n",
    "num_feature.append('zipcode')\n",
    "num_feature.append('zipcode_freq')\n",
    "print(len(ob_feature), len(num_feature))"
   ]
  },
  {
   "cell_type": "markdown",
   "metadata": {},
   "source": [
    "### emptitle-frequency encoding (can do some NLP for later stage)"
   ]
  },
  {
   "cell_type": "code",
   "execution_count": 140,
   "metadata": {},
   "outputs": [],
   "source": [
    "emptitle_freq = df.groupby(\"emptitle\").size().reset_index()\n",
    "emptitle_freq.columns = [\"emptitle\", \"emptitle_freq\"]\n",
    "df = pd.merge(df, emptitle_freq, how = \"left\", on = \"emptitle\")"
   ]
  },
  {
   "cell_type": "code",
   "execution_count": 142,
   "metadata": {},
   "outputs": [
    {
     "name": "stdout",
     "output_type": "stream",
     "text": [
      "8 82\n"
     ]
    }
   ],
   "source": [
    "ob_feature.remove('emptitle')\n",
    "num_feature.append('emptitle_freq')\n",
    "print(len(ob_feature), len(num_feature))"
   ]
  },
  {
   "cell_type": "markdown",
   "metadata": {},
   "source": [
    "###### Addr_state - frequency encoding"
   ]
  },
  {
   "cell_type": "code",
   "execution_count": 143,
   "metadata": {},
   "outputs": [],
   "source": [
    "addrstate_freq = df.groupby(\"addrstate\").size().reset_index()\n",
    "addrstate_freq.columns = [\"addrstate\", \"addrstate_freq\"]\n",
    "df = pd.merge(df, addrstate_freq, how = \"left\", on = \"addrstate\")"
   ]
  },
  {
   "cell_type": "code",
   "execution_count": 144,
   "metadata": {},
   "outputs": [
    {
     "name": "stdout",
     "output_type": "stream",
     "text": [
      "7 83\n"
     ]
    }
   ],
   "source": [
    "ob_feature.remove('addrstate')\n",
    "num_feature.append('addrstate_freq')\n",
    "print(len(ob_feature), len(num_feature))"
   ]
  },
  {
   "cell_type": "code",
   "execution_count": 145,
   "metadata": {},
   "outputs": [
    {
     "data": {
      "text/plain": [
       "['initialliststatus',\n",
       " 'verificationstatusjoint',\n",
       " 'applicationtype',\n",
       " 'desc',\n",
       " 'homeownership',\n",
       " 'verificationstatus',\n",
       " 'purpose']"
      ]
     },
     "execution_count": 145,
     "metadata": {},
     "output_type": "execute_result"
    }
   ],
   "source": [
    "ob_feature"
   ]
  },
  {
   "cell_type": "code",
   "execution_count": 146,
   "metadata": {
    "scrolled": true
   },
   "outputs": [
    {
     "data": {
      "text/plain": [
       "0    143547\n",
       "1     63862\n",
       "Name: initialliststatus, dtype: int64"
      ]
     },
     "execution_count": 146,
     "metadata": {},
     "output_type": "execute_result"
    }
   ],
   "source": [
    "# initialliststatus has only two values, change it to 0,1\n",
    "initialliststatus= df.initialliststatus.apply(lambda x: 0 if x =='w' else 1)\n",
    "df.initialliststatus = initialliststatus\n",
    "df.initialliststatus.value_counts()"
   ]
  },
  {
   "cell_type": "code",
   "execution_count": 147,
   "metadata": {},
   "outputs": [
    {
     "data": {
      "text/plain": [
       "0    193667\n",
       "1     13742\n",
       "Name: applicationtype, dtype: int64"
      ]
     },
     "execution_count": 147,
     "metadata": {},
     "output_type": "execute_result"
    }
   ],
   "source": [
    "# applicationtype has only two values (Individual, Joint), change it to 0,1; only less than 2% is 1.\n",
    "applicationtype= df.applicationtype.apply(lambda x: 0 if x =='Individual' else 1)\n",
    "df.applicationtype = applicationtype \n",
    "df.applicationtype.value_counts()"
   ]
  },
  {
   "cell_type": "code",
   "execution_count": 149,
   "metadata": {},
   "outputs": [
    {
     "name": "stdout",
     "output_type": "stream",
     "text": [
      "5 85 ['verificationstatusjoint', 'desc', 'homeownership', 'verificationstatus', 'purpose']\n"
     ]
    }
   ],
   "source": [
    "ob_feature.remove('initialliststatus')\n",
    "num_feature.append('initialliststatus')\n",
    "ob_feature.remove('applicationtype')\n",
    "num_feature.append('applicationtype')\n",
    "print(len(ob_feature), len(num_feature), ob_feature)"
   ]
  },
  {
   "cell_type": "code",
   "execution_count": 151,
   "metadata": {},
   "outputs": [
    {
     "name": "stdout",
     "output_type": "stream",
     "text": [
      "4 85 ['desc', 'homeownership', 'verificationstatus', 'purpose']\n"
     ]
    }
   ],
   "source": [
    "# verificationstatusjoint mostly consistent with applicationtype, just remove it\n",
    "ob_feature.remove('verificationstatusjoint')\n",
    "print(len(ob_feature), len(num_feature), ob_feature)"
   ]
  },
  {
   "cell_type": "code",
   "execution_count": 152,
   "metadata": {},
   "outputs": [],
   "source": [
    "ob_feature.remove('desc')"
   ]
  },
  {
   "cell_type": "markdown",
   "metadata": {},
   "source": [
    "#### One hot encoding"
   ]
  },
  {
   "cell_type": "code",
   "execution_count": 153,
   "metadata": {},
   "outputs": [],
   "source": [
    "dummy_feature = [\"homeownership\", \"verificationstatus\", \"purpose\"]"
   ]
  },
  {
   "cell_type": "code",
   "execution_count": 154,
   "metadata": {},
   "outputs": [],
   "source": [
    "df_dummy = pd.get_dummies(df[dummy_feature])"
   ]
  },
  {
   "cell_type": "code",
   "execution_count": 155,
   "metadata": {},
   "outputs": [],
   "source": [
    "OHE_feature=list(df_dummy.columns.values)"
   ]
  },
  {
   "cell_type": "code",
   "execution_count": 156,
   "metadata": {},
   "outputs": [
    {
     "data": {
      "text/plain": [
       "21"
      ]
     },
     "execution_count": 156,
     "metadata": {},
     "output_type": "execute_result"
    }
   ],
   "source": [
    "len(OHE_feature)"
   ]
  },
  {
   "cell_type": "code",
   "execution_count": 157,
   "metadata": {},
   "outputs": [],
   "source": [
    "df=pd.concat([df,df_dummy], axis=1)"
   ]
  },
  {
   "cell_type": "code",
   "execution_count": 158,
   "metadata": {},
   "outputs": [
    {
     "data": {
      "text/plain": [
       "(207409, 119)"
      ]
     },
     "execution_count": 158,
     "metadata": {},
     "output_type": "execute_result"
    }
   ],
   "source": [
    "df.shape"
   ]
  },
  {
   "cell_type": "code",
   "execution_count": 159,
   "metadata": {},
   "outputs": [],
   "source": [
    "for feat in dummy_feature:\n",
    "    ob_feature.remove(feat)"
   ]
  },
  {
   "cell_type": "code",
   "execution_count": 160,
   "metadata": {},
   "outputs": [
    {
     "data": {
      "text/plain": [
       "0"
      ]
     },
     "execution_count": 160,
     "metadata": {},
     "output_type": "execute_result"
    }
   ],
   "source": [
    "len(ob_feature)"
   ]
  },
  {
   "cell_type": "code",
   "execution_count": 161,
   "metadata": {},
   "outputs": [],
   "source": [
    "select_feature=num_feature+OHE_feature"
   ]
  },
  {
   "cell_type": "code",
   "execution_count": 162,
   "metadata": {},
   "outputs": [
    {
     "data": {
      "text/plain": [
       "106"
      ]
     },
     "execution_count": 162,
     "metadata": {},
     "output_type": "execute_result"
    }
   ],
   "source": [
    "len(select_feature)"
   ]
  },
  {
   "cell_type": "code",
   "execution_count": 163,
   "metadata": {},
   "outputs": [
    {
     "data": {
      "text/plain": [
       "(207409, 119)"
      ]
     },
     "execution_count": 163,
     "metadata": {},
     "output_type": "execute_result"
    }
   ],
   "source": [
    "df.shape"
   ]
  },
  {
   "cell_type": "markdown",
   "metadata": {},
   "source": [
    "##  XGBoost "
   ]
  },
  {
   "cell_type": "code",
   "execution_count": 164,
   "metadata": {},
   "outputs": [
    {
     "name": "stdout",
     "output_type": "stream",
     "text": [
      "['bcopentobuy', 'numactvbctl', 'mthssincelastrecord', 'totcurbal', 'mosinrcnttl', 'openrv12m', 'inqlast12m', 'mortacc', 'mthssincelastdelinq', 'numactvrevtl', 'tothicredlim', 'ficorangehigh', 'maxbalbc', 'openil24m', 'numbctl', 'totalrevhilim', 'totcollamt', 'numtl120dpd2m', 'totalbalexmort', 'annualincjoint', 'ficorangelow', 'totalacc', 'mthssincerecentbcdlq', 'installment', 'numrevaccts', 'pubrec', 'accopenpast24mths', 'numoprevtl', 'avgcurbal', 'openactil', 'dti', 'openacc6m', 'totalbalil', 'delinq2yrs', 'mosinoldilacct', 'annualinc', 'inqfi', 'numtl30dpd', 'loanamnt', 'numsats', 'mthssincerecentrevoldelinq', 'mthssincerecentbc', 'revolbal', 'inqlast6mths', 'mthssincercntil', 'openrv24m', 'totalilhighcreditlimit', 'collections12mthsexmed', 'chargeoffwithin12mths', 'numtl90gdpd24m', 'delinqamnt', 'mosinoldrevtlop', 'taxliens', 'numbcsats', 'totalbclimit', 'dtijoint', 'numacctsever120pd', 'accnowdelinq', 'openil12m', 'pcttlnvrdlq', 'bcutil', 'mthssincerecentinq', 'numiltl', 'mosinrcntrevtlop', 'allutil', 'openacc', 'numrevtlbalgt0', 'totalcutl', 'mthssincelastmajorderog', 'numtloppast12m', 'percentbcgt75', 'pubrecbankruptcies', 'ilutil', 'earliestcrline_month', 'emplength', 'intrate', 'revolutil', 'grade', 'subgrade', 'zipcode', 'zipcode_freq', 'emptitle_freq', 'addrstate_freq', 'initialliststatus', 'applicationtype', 'homeownership_ANY', 'homeownership_MORTGAGE', 'homeownership_NONE', 'homeownership_OWN', 'homeownership_RENT', 'verificationstatus_Not Verified', 'verificationstatus_Source Verified', 'verificationstatus_Verified', 'purpose_car', 'purpose_credit_card', 'purpose_debt_consolidation', 'purpose_educational', 'purpose_home_improvement', 'purpose_house', 'purpose_major_purchase', 'purpose_medical', 'purpose_moving', 'purpose_other', 'purpose_renewable_energy', 'purpose_small_business', 'purpose_vacation']\n"
     ]
    }
   ],
   "source": [
    "feat=select_feature\n",
    "print(feat)"
   ]
  },
  {
   "cell_type": "markdown",
   "metadata": {},
   "source": [
    "### Preliminary manually parameter tuning based on stratified train-test split"
   ]
  },
  {
   "cell_type": "code",
   "execution_count": 166,
   "metadata": {},
   "outputs": [],
   "source": [
    "from sklearn.model_selection import StratifiedKFold\n",
    "from sklearn.model_selection import train_test_split\n",
    "#Kfolds = StratifiedKFold(df_all['loan_status'], n_folds = 3, shuffle=True, random_state=2019)"
   ]
  },
  {
   "cell_type": "code",
   "execution_count": 167,
   "metadata": {},
   "outputs": [],
   "source": [
    "df_train = df.query(\"train_flg == 1\")\n",
    "df_test = df.query(\"train_flg == 0\" )"
   ]
  },
  {
   "cell_type": "code",
   "execution_count": 169,
   "metadata": {},
   "outputs": [
    {
     "name": "stdout",
     "output_type": "stream",
     "text": [
      "(163500, 119) (43909, 119)\n"
     ]
    }
   ],
   "source": [
    "print(df_train.shape, df_test.shape)"
   ]
  },
  {
   "cell_type": "code",
   "execution_count": 170,
   "metadata": {},
   "outputs": [
    {
     "data": {
      "text/plain": [
       "(163500, 106)"
      ]
     },
     "execution_count": 170,
     "metadata": {},
     "output_type": "execute_result"
    }
   ],
   "source": [
    "df_train[feat].shape"
   ]
  },
  {
   "cell_type": "code",
   "execution_count": 171,
   "metadata": {},
   "outputs": [],
   "source": [
    "X_train, X_valid, y_train, y_valid = train_test_split(df_train[feat], df_train.loanstatus, \n",
    "                                                      test_size=0.3, random_state=2014, stratify = df_train.loanstatus )"
   ]
  },
  {
   "cell_type": "code",
   "execution_count": 172,
   "metadata": {},
   "outputs": [],
   "source": [
    "X_test, y_test = df_test[feat], df_test.loanstatus"
   ]
  },
  {
   "cell_type": "code",
   "execution_count": 173,
   "metadata": {},
   "outputs": [],
   "source": [
    "dtrain = xgb.DMatrix(X_train, y_train, missing = np.NAN)\n",
    "dvalid = xgb.DMatrix(X_valid, y_valid, missing = np.NAN)\n",
    "dtest = xgb.DMatrix(X_test, y_test, missing = np.NAN)"
   ]
  },
  {
   "cell_type": "code",
   "execution_count": 174,
   "metadata": {},
   "outputs": [],
   "source": [
    "params = {\"objective\": \"binary:logistic\", \n",
    "          \"booster\" : \"gbtree\", \n",
    "          \"eta\": 0.05, \n",
    "          \"max_depth\": 6, \n",
    "          \"subsample\": 0.632, \n",
    "          \"colsample_bytree\": 0.7,\n",
    "          #\"colsample_bylevel\": 0.6,\n",
    "          \"silent\": 1, \n",
    "          \"seed\": 1234, \n",
    "          \"eval_metric\": \"auc\",\n",
    "          #\"gamma\": 1, \n",
    "          \"min_child_weight\": 5} "
   ]
  },
  {
   "cell_type": "code",
   "execution_count": 175,
   "metadata": {},
   "outputs": [
    {
     "name": "stdout",
     "output_type": "stream",
     "text": [
      "[0]\ttrain-auc:0.688115\teval-auc:0.677294\n",
      "Multiple eval metrics have been passed: 'eval-auc' will be used for early stopping.\n",
      "\n",
      "Will train until eval-auc hasn't improved in 50 rounds.\n",
      "[1]\ttrain-auc:0.695796\teval-auc:0.683198\n",
      "[2]\ttrain-auc:0.699923\teval-auc:0.686876\n",
      "[3]\ttrain-auc:0.702295\teval-auc:0.6883\n",
      "[4]\ttrain-auc:0.704179\teval-auc:0.691027\n",
      "[5]\ttrain-auc:0.705469\teval-auc:0.692174\n",
      "[6]\ttrain-auc:0.706209\teval-auc:0.693473\n",
      "[7]\ttrain-auc:0.70724\teval-auc:0.693804\n",
      "[8]\ttrain-auc:0.707718\teval-auc:0.694184\n",
      "[9]\ttrain-auc:0.708792\teval-auc:0.694096\n",
      "[10]\ttrain-auc:0.709418\teval-auc:0.694738\n",
      "[11]\ttrain-auc:0.71231\teval-auc:0.696899\n",
      "[12]\ttrain-auc:0.712762\teval-auc:0.697062\n",
      "[13]\ttrain-auc:0.713078\teval-auc:0.697023\n",
      "[14]\ttrain-auc:0.713531\teval-auc:0.697206\n",
      "[15]\ttrain-auc:0.713793\teval-auc:0.697279\n",
      "[16]\ttrain-auc:0.714168\teval-auc:0.697187\n",
      "[17]\ttrain-auc:0.714575\teval-auc:0.697364\n",
      "[18]\ttrain-auc:0.714972\teval-auc:0.69736\n",
      "[19]\ttrain-auc:0.715243\teval-auc:0.697656\n",
      "[20]\ttrain-auc:0.715508\teval-auc:0.697859\n",
      "[21]\ttrain-auc:0.715808\teval-auc:0.698079\n",
      "[22]\ttrain-auc:0.716202\teval-auc:0.698258\n",
      "[23]\ttrain-auc:0.716834\teval-auc:0.698535\n",
      "[24]\ttrain-auc:0.717221\teval-auc:0.698867\n",
      "[25]\ttrain-auc:0.717897\teval-auc:0.699082\n",
      "[26]\ttrain-auc:0.718294\teval-auc:0.699432\n",
      "[27]\ttrain-auc:0.718549\teval-auc:0.699765\n",
      "[28]\ttrain-auc:0.718952\teval-auc:0.700002\n",
      "[29]\ttrain-auc:0.719416\teval-auc:0.70009\n",
      "[30]\ttrain-auc:0.719742\teval-auc:0.700182\n",
      "[31]\ttrain-auc:0.720157\teval-auc:0.700498\n",
      "[32]\ttrain-auc:0.720623\teval-auc:0.700606\n",
      "[33]\ttrain-auc:0.721007\teval-auc:0.700837\n",
      "[34]\ttrain-auc:0.721412\teval-auc:0.70102\n",
      "[35]\ttrain-auc:0.722358\teval-auc:0.701825\n",
      "[36]\ttrain-auc:0.722741\teval-auc:0.701958\n",
      "[37]\ttrain-auc:0.722988\teval-auc:0.702025\n",
      "[38]\ttrain-auc:0.723405\teval-auc:0.702154\n",
      "[39]\ttrain-auc:0.723724\teval-auc:0.702233\n",
      "[40]\ttrain-auc:0.724181\teval-auc:0.702526\n",
      "[41]\ttrain-auc:0.724557\teval-auc:0.702696\n",
      "[42]\ttrain-auc:0.724871\teval-auc:0.702874\n",
      "[43]\ttrain-auc:0.725308\teval-auc:0.703026\n",
      "[44]\ttrain-auc:0.725725\teval-auc:0.703258\n",
      "[45]\ttrain-auc:0.726002\teval-auc:0.703335\n",
      "[46]\ttrain-auc:0.726544\teval-auc:0.70359\n",
      "[47]\ttrain-auc:0.726855\teval-auc:0.703774\n",
      "[48]\ttrain-auc:0.72736\teval-auc:0.704048\n",
      "[49]\ttrain-auc:0.727767\teval-auc:0.704128\n",
      "[50]\ttrain-auc:0.728089\teval-auc:0.704354\n",
      "[51]\ttrain-auc:0.728459\teval-auc:0.70443\n",
      "[52]\ttrain-auc:0.728913\teval-auc:0.704588\n",
      "[53]\ttrain-auc:0.729326\teval-auc:0.704727\n",
      "[54]\ttrain-auc:0.729886\teval-auc:0.704899\n",
      "[55]\ttrain-auc:0.730326\teval-auc:0.704987\n",
      "[56]\ttrain-auc:0.730793\teval-auc:0.705093\n",
      "[57]\ttrain-auc:0.731374\teval-auc:0.705328\n",
      "[58]\ttrain-auc:0.731943\teval-auc:0.705441\n",
      "[59]\ttrain-auc:0.732176\teval-auc:0.705565\n",
      "[60]\ttrain-auc:0.732457\teval-auc:0.705713\n",
      "[61]\ttrain-auc:0.732897\teval-auc:0.705984\n",
      "[62]\ttrain-auc:0.73346\teval-auc:0.706169\n",
      "[63]\ttrain-auc:0.733928\teval-auc:0.70644\n",
      "[64]\ttrain-auc:0.734364\teval-auc:0.706669\n",
      "[65]\ttrain-auc:0.734695\teval-auc:0.706797\n",
      "[66]\ttrain-auc:0.73521\teval-auc:0.70698\n",
      "[67]\ttrain-auc:0.735684\teval-auc:0.707133\n",
      "[68]\ttrain-auc:0.736118\teval-auc:0.70719\n",
      "[69]\ttrain-auc:0.736663\teval-auc:0.707451\n",
      "[70]\ttrain-auc:0.737243\teval-auc:0.707594\n",
      "[71]\ttrain-auc:0.737739\teval-auc:0.707705\n",
      "[72]\ttrain-auc:0.7382\teval-auc:0.707953\n",
      "[73]\ttrain-auc:0.738547\teval-auc:0.708036\n",
      "[74]\ttrain-auc:0.738986\teval-auc:0.708096\n",
      "[75]\ttrain-auc:0.739379\teval-auc:0.708177\n",
      "[76]\ttrain-auc:0.739891\teval-auc:0.708378\n",
      "[77]\ttrain-auc:0.740166\teval-auc:0.708526\n",
      "[78]\ttrain-auc:0.740629\teval-auc:0.708694\n",
      "[79]\ttrain-auc:0.741165\teval-auc:0.708818\n",
      "[80]\ttrain-auc:0.741515\teval-auc:0.708917\n",
      "[81]\ttrain-auc:0.741989\teval-auc:0.709067\n",
      "[82]\ttrain-auc:0.742417\teval-auc:0.709225\n",
      "[83]\ttrain-auc:0.742836\teval-auc:0.709453\n",
      "[84]\ttrain-auc:0.743206\teval-auc:0.70963\n",
      "[85]\ttrain-auc:0.743657\teval-auc:0.709656\n",
      "[86]\ttrain-auc:0.744029\teval-auc:0.709694\n",
      "[87]\ttrain-auc:0.744468\teval-auc:0.709722\n",
      "[88]\ttrain-auc:0.744844\teval-auc:0.709871\n",
      "[89]\ttrain-auc:0.745305\teval-auc:0.709992\n",
      "[90]\ttrain-auc:0.745551\teval-auc:0.710055\n",
      "[91]\ttrain-auc:0.746037\teval-auc:0.710256\n",
      "[92]\ttrain-auc:0.746485\teval-auc:0.710345\n",
      "[93]\ttrain-auc:0.74692\teval-auc:0.710435\n",
      "[94]\ttrain-auc:0.747277\teval-auc:0.710585\n",
      "[95]\ttrain-auc:0.747863\teval-auc:0.710754\n",
      "[96]\ttrain-auc:0.748131\teval-auc:0.710887\n",
      "[97]\ttrain-auc:0.748484\teval-auc:0.710891\n",
      "[98]\ttrain-auc:0.748894\teval-auc:0.71108\n",
      "[99]\ttrain-auc:0.749115\teval-auc:0.711111\n",
      "[100]\ttrain-auc:0.749458\teval-auc:0.711104\n",
      "[101]\ttrain-auc:0.749715\teval-auc:0.711199\n",
      "[102]\ttrain-auc:0.750081\teval-auc:0.71132\n",
      "[103]\ttrain-auc:0.750417\teval-auc:0.711379\n",
      "[104]\ttrain-auc:0.750786\teval-auc:0.711412\n",
      "[105]\ttrain-auc:0.75114\teval-auc:0.711495\n",
      "[106]\ttrain-auc:0.751401\teval-auc:0.7116\n",
      "[107]\ttrain-auc:0.751756\teval-auc:0.711739\n",
      "[108]\ttrain-auc:0.752083\teval-auc:0.711777\n",
      "[109]\ttrain-auc:0.752338\teval-auc:0.711876\n",
      "[110]\ttrain-auc:0.75269\teval-auc:0.71189\n",
      "[111]\ttrain-auc:0.75315\teval-auc:0.712025\n",
      "[112]\ttrain-auc:0.753488\teval-auc:0.712086\n",
      "[113]\ttrain-auc:0.753797\teval-auc:0.712216\n",
      "[114]\ttrain-auc:0.754089\teval-auc:0.712289\n",
      "[115]\ttrain-auc:0.754395\teval-auc:0.712369\n",
      "[116]\ttrain-auc:0.754709\teval-auc:0.71239\n",
      "[117]\ttrain-auc:0.755033\teval-auc:0.712413\n",
      "[118]\ttrain-auc:0.755425\teval-auc:0.712544\n",
      "[119]\ttrain-auc:0.75578\teval-auc:0.712615\n",
      "[120]\ttrain-auc:0.75618\teval-auc:0.712665\n",
      "[121]\ttrain-auc:0.756454\teval-auc:0.712709\n",
      "[122]\ttrain-auc:0.756746\teval-auc:0.712774\n",
      "[123]\ttrain-auc:0.75704\teval-auc:0.712843\n",
      "[124]\ttrain-auc:0.757249\teval-auc:0.712911\n",
      "[125]\ttrain-auc:0.757752\teval-auc:0.712974\n",
      "[126]\ttrain-auc:0.758167\teval-auc:0.71303\n",
      "[127]\ttrain-auc:0.75869\teval-auc:0.713139\n",
      "[128]\ttrain-auc:0.759041\teval-auc:0.713193\n",
      "[129]\ttrain-auc:0.759399\teval-auc:0.713234\n",
      "[130]\ttrain-auc:0.759606\teval-auc:0.713311\n",
      "[131]\ttrain-auc:0.759891\teval-auc:0.713297\n",
      "[132]\ttrain-auc:0.760159\teval-auc:0.713324\n",
      "[133]\ttrain-auc:0.760269\teval-auc:0.713314\n",
      "[134]\ttrain-auc:0.76059\teval-auc:0.713279\n",
      "[135]\ttrain-auc:0.760972\teval-auc:0.71339\n",
      "[136]\ttrain-auc:0.761318\teval-auc:0.713394\n",
      "[137]\ttrain-auc:0.761646\teval-auc:0.71351\n",
      "[138]\ttrain-auc:0.761881\teval-auc:0.713569\n",
      "[139]\ttrain-auc:0.762137\teval-auc:0.713569\n",
      "[140]\ttrain-auc:0.762296\teval-auc:0.713589\n",
      "[141]\ttrain-auc:0.762516\teval-auc:0.7136\n",
      "[142]\ttrain-auc:0.762852\teval-auc:0.713674\n",
      "[143]\ttrain-auc:0.763135\teval-auc:0.713746\n",
      "[144]\ttrain-auc:0.763381\teval-auc:0.713766\n",
      "[145]\ttrain-auc:0.763514\teval-auc:0.713784\n",
      "[146]\ttrain-auc:0.763913\teval-auc:0.713736\n",
      "[147]\ttrain-auc:0.764221\teval-auc:0.713857\n",
      "[148]\ttrain-auc:0.764563\teval-auc:0.713941\n",
      "[149]\ttrain-auc:0.76486\teval-auc:0.713964\n",
      "[150]\ttrain-auc:0.765145\teval-auc:0.713983\n",
      "[151]\ttrain-auc:0.765406\teval-auc:0.714018\n",
      "[152]\ttrain-auc:0.765684\teval-auc:0.714083\n",
      "[153]\ttrain-auc:0.765792\teval-auc:0.714113\n",
      "[154]\ttrain-auc:0.766094\teval-auc:0.714127\n",
      "[155]\ttrain-auc:0.76641\teval-auc:0.714224\n",
      "[156]\ttrain-auc:0.766737\teval-auc:0.71426\n",
      "[157]\ttrain-auc:0.767054\teval-auc:0.71435\n",
      "[158]\ttrain-auc:0.767316\teval-auc:0.714406\n",
      "[159]\ttrain-auc:0.767594\teval-auc:0.714458\n",
      "[160]\ttrain-auc:0.767948\teval-auc:0.71455\n",
      "[161]\ttrain-auc:0.768262\teval-auc:0.714676\n",
      "[162]\ttrain-auc:0.768513\teval-auc:0.714679\n",
      "[163]\ttrain-auc:0.768688\teval-auc:0.714715\n",
      "[164]\ttrain-auc:0.769111\teval-auc:0.714728\n",
      "[165]\ttrain-auc:0.769281\teval-auc:0.714731\n",
      "[166]\ttrain-auc:0.76952\teval-auc:0.714794\n",
      "[167]\ttrain-auc:0.769734\teval-auc:0.714807\n",
      "[168]\ttrain-auc:0.770008\teval-auc:0.714751\n",
      "[169]\ttrain-auc:0.770377\teval-auc:0.714828\n",
      "[170]\ttrain-auc:0.770761\teval-auc:0.714867\n",
      "[171]\ttrain-auc:0.771053\teval-auc:0.714817\n",
      "[172]\ttrain-auc:0.771414\teval-auc:0.714879\n",
      "[173]\ttrain-auc:0.771702\teval-auc:0.714962\n",
      "[174]\ttrain-auc:0.771978\teval-auc:0.71498\n",
      "[175]\ttrain-auc:0.772299\teval-auc:0.715011\n",
      "[176]\ttrain-auc:0.77245\teval-auc:0.715033\n",
      "[177]\ttrain-auc:0.772667\teval-auc:0.715053\n",
      "[178]\ttrain-auc:0.772978\teval-auc:0.715107\n",
      "[179]\ttrain-auc:0.773251\teval-auc:0.715169\n",
      "[180]\ttrain-auc:0.77364\teval-auc:0.715246\n",
      "[181]\ttrain-auc:0.77389\teval-auc:0.715194\n",
      "[182]\ttrain-auc:0.774007\teval-auc:0.715188\n",
      "[183]\ttrain-auc:0.774232\teval-auc:0.71519\n",
      "[184]\ttrain-auc:0.774465\teval-auc:0.715178\n",
      "[185]\ttrain-auc:0.774865\teval-auc:0.71524\n",
      "[186]\ttrain-auc:0.775042\teval-auc:0.715179\n",
      "[187]\ttrain-auc:0.775287\teval-auc:0.715277\n",
      "[188]\ttrain-auc:0.775525\teval-auc:0.715285\n",
      "[189]\ttrain-auc:0.775763\teval-auc:0.715284\n",
      "[190]\ttrain-auc:0.775998\teval-auc:0.715264\n"
     ]
    },
    {
     "name": "stdout",
     "output_type": "stream",
     "text": [
      "[191]\ttrain-auc:0.776289\teval-auc:0.715304\n",
      "[192]\ttrain-auc:0.776575\teval-auc:0.715305\n",
      "[193]\ttrain-auc:0.776795\teval-auc:0.715269\n",
      "[194]\ttrain-auc:0.777035\teval-auc:0.715285\n",
      "[195]\ttrain-auc:0.777358\teval-auc:0.715279\n",
      "[196]\ttrain-auc:0.777541\teval-auc:0.715301\n",
      "[197]\ttrain-auc:0.777824\teval-auc:0.715358\n",
      "[198]\ttrain-auc:0.778049\teval-auc:0.715376\n",
      "[199]\ttrain-auc:0.778307\teval-auc:0.715384\n",
      "[200]\ttrain-auc:0.778676\teval-auc:0.715449\n",
      "[201]\ttrain-auc:0.778847\teval-auc:0.715457\n",
      "[202]\ttrain-auc:0.779084\teval-auc:0.715512\n",
      "[203]\ttrain-auc:0.779421\teval-auc:0.715504\n",
      "[204]\ttrain-auc:0.779581\teval-auc:0.71551\n",
      "[205]\ttrain-auc:0.779849\teval-auc:0.715552\n",
      "[206]\ttrain-auc:0.78003\teval-auc:0.715576\n",
      "[207]\ttrain-auc:0.780204\teval-auc:0.715617\n",
      "[208]\ttrain-auc:0.780637\teval-auc:0.715655\n",
      "[209]\ttrain-auc:0.780881\teval-auc:0.715688\n",
      "[210]\ttrain-auc:0.781086\teval-auc:0.715719\n",
      "[211]\ttrain-auc:0.781311\teval-auc:0.715769\n",
      "[212]\ttrain-auc:0.781656\teval-auc:0.715796\n",
      "[213]\ttrain-auc:0.781969\teval-auc:0.715854\n",
      "[214]\ttrain-auc:0.782125\teval-auc:0.71581\n",
      "[215]\ttrain-auc:0.782384\teval-auc:0.71585\n",
      "[216]\ttrain-auc:0.782473\teval-auc:0.715868\n",
      "[217]\ttrain-auc:0.78273\teval-auc:0.715899\n",
      "[218]\ttrain-auc:0.78303\teval-auc:0.715974\n",
      "[219]\ttrain-auc:0.783369\teval-auc:0.716009\n",
      "[220]\ttrain-auc:0.783528\teval-auc:0.715991\n",
      "[221]\ttrain-auc:0.783739\teval-auc:0.71604\n",
      "[222]\ttrain-auc:0.783915\teval-auc:0.715968\n",
      "[223]\ttrain-auc:0.784041\teval-auc:0.715961\n",
      "[224]\ttrain-auc:0.784201\teval-auc:0.71596\n",
      "[225]\ttrain-auc:0.784548\teval-auc:0.715901\n",
      "[226]\ttrain-auc:0.784819\teval-auc:0.715921\n",
      "[227]\ttrain-auc:0.785039\teval-auc:0.715906\n",
      "[228]\ttrain-auc:0.785297\teval-auc:0.71592\n",
      "[229]\ttrain-auc:0.785478\teval-auc:0.715962\n",
      "[230]\ttrain-auc:0.785702\teval-auc:0.716039\n",
      "[231]\ttrain-auc:0.785971\teval-auc:0.716051\n",
      "[232]\ttrain-auc:0.786286\teval-auc:0.716019\n",
      "[233]\ttrain-auc:0.786641\teval-auc:0.716094\n",
      "[234]\ttrain-auc:0.786884\teval-auc:0.716125\n",
      "[235]\ttrain-auc:0.787098\teval-auc:0.716121\n",
      "[236]\ttrain-auc:0.787448\teval-auc:0.716191\n",
      "[237]\ttrain-auc:0.787577\teval-auc:0.716235\n",
      "[238]\ttrain-auc:0.787889\teval-auc:0.716222\n",
      "[239]\ttrain-auc:0.788185\teval-auc:0.716217\n",
      "[240]\ttrain-auc:0.788418\teval-auc:0.716199\n",
      "[241]\ttrain-auc:0.788677\teval-auc:0.716207\n",
      "[242]\ttrain-auc:0.788841\teval-auc:0.716199\n",
      "[243]\ttrain-auc:0.789007\teval-auc:0.716205\n",
      "[244]\ttrain-auc:0.789352\teval-auc:0.7162\n",
      "[245]\ttrain-auc:0.789716\teval-auc:0.716208\n",
      "[246]\ttrain-auc:0.790014\teval-auc:0.716222\n",
      "[247]\ttrain-auc:0.790258\teval-auc:0.716174\n",
      "[248]\ttrain-auc:0.790456\teval-auc:0.716137\n",
      "[249]\ttrain-auc:0.790675\teval-auc:0.716126\n",
      "[250]\ttrain-auc:0.790926\teval-auc:0.716138\n",
      "[251]\ttrain-auc:0.791179\teval-auc:0.71618\n",
      "[252]\ttrain-auc:0.791376\teval-auc:0.716213\n",
      "[253]\ttrain-auc:0.791531\teval-auc:0.716233\n",
      "[254]\ttrain-auc:0.791634\teval-auc:0.716249\n",
      "[255]\ttrain-auc:0.791925\teval-auc:0.716294\n",
      "[256]\ttrain-auc:0.792185\teval-auc:0.716318\n",
      "[257]\ttrain-auc:0.792356\teval-auc:0.716367\n",
      "[258]\ttrain-auc:0.792562\teval-auc:0.716344\n",
      "[259]\ttrain-auc:0.79287\teval-auc:0.716397\n",
      "[260]\ttrain-auc:0.792969\teval-auc:0.716396\n",
      "[261]\ttrain-auc:0.793146\teval-auc:0.716396\n",
      "[262]\ttrain-auc:0.793314\teval-auc:0.716394\n",
      "[263]\ttrain-auc:0.793535\teval-auc:0.716446\n",
      "[264]\ttrain-auc:0.79363\teval-auc:0.716465\n",
      "[265]\ttrain-auc:0.793901\teval-auc:0.716479\n",
      "[266]\ttrain-auc:0.794094\teval-auc:0.716448\n",
      "[267]\ttrain-auc:0.794385\teval-auc:0.716413\n",
      "[268]\ttrain-auc:0.794596\teval-auc:0.716454\n",
      "[269]\ttrain-auc:0.794864\teval-auc:0.71642\n",
      "[270]\ttrain-auc:0.79503\teval-auc:0.716402\n",
      "[271]\ttrain-auc:0.795256\teval-auc:0.716451\n",
      "[272]\ttrain-auc:0.795376\teval-auc:0.716494\n",
      "[273]\ttrain-auc:0.795441\teval-auc:0.716488\n",
      "[274]\ttrain-auc:0.795721\teval-auc:0.716477\n",
      "[275]\ttrain-auc:0.796016\teval-auc:0.716525\n",
      "[276]\ttrain-auc:0.796404\teval-auc:0.716553\n",
      "[277]\ttrain-auc:0.79651\teval-auc:0.716565\n",
      "[278]\ttrain-auc:0.796631\teval-auc:0.716556\n",
      "[279]\ttrain-auc:0.796799\teval-auc:0.716556\n",
      "[280]\ttrain-auc:0.797028\teval-auc:0.716584\n",
      "[281]\ttrain-auc:0.797308\teval-auc:0.716587\n",
      "[282]\ttrain-auc:0.797556\teval-auc:0.716649\n",
      "[283]\ttrain-auc:0.797602\teval-auc:0.716656\n",
      "[284]\ttrain-auc:0.797667\teval-auc:0.716678\n",
      "[285]\ttrain-auc:0.797875\teval-auc:0.716695\n",
      "[286]\ttrain-auc:0.798059\teval-auc:0.71666\n",
      "[287]\ttrain-auc:0.798292\teval-auc:0.716726\n",
      "[288]\ttrain-auc:0.798393\teval-auc:0.716711\n",
      "[289]\ttrain-auc:0.798637\teval-auc:0.716729\n",
      "[290]\ttrain-auc:0.798981\teval-auc:0.716771\n",
      "[291]\ttrain-auc:0.799206\teval-auc:0.716796\n",
      "[292]\ttrain-auc:0.799365\teval-auc:0.716781\n",
      "[293]\ttrain-auc:0.79949\teval-auc:0.716768\n",
      "[294]\ttrain-auc:0.799795\teval-auc:0.716831\n",
      "[295]\ttrain-auc:0.799997\teval-auc:0.716888\n",
      "[296]\ttrain-auc:0.800187\teval-auc:0.716921\n",
      "[297]\ttrain-auc:0.800449\teval-auc:0.716901\n",
      "[298]\ttrain-auc:0.800718\teval-auc:0.716883\n",
      "[299]\ttrain-auc:0.801138\teval-auc:0.716838\n",
      "[300]\ttrain-auc:0.801285\teval-auc:0.716811\n",
      "[301]\ttrain-auc:0.80156\teval-auc:0.716807\n",
      "[302]\ttrain-auc:0.801683\teval-auc:0.716845\n",
      "[303]\ttrain-auc:0.80183\teval-auc:0.716852\n",
      "[304]\ttrain-auc:0.802067\teval-auc:0.71681\n",
      "[305]\ttrain-auc:0.802242\teval-auc:0.716808\n",
      "[306]\ttrain-auc:0.802478\teval-auc:0.716854\n",
      "[307]\ttrain-auc:0.802506\teval-auc:0.716843\n",
      "[308]\ttrain-auc:0.802693\teval-auc:0.716821\n",
      "[309]\ttrain-auc:0.802867\teval-auc:0.71678\n",
      "[310]\ttrain-auc:0.803134\teval-auc:0.716784\n",
      "[311]\ttrain-auc:0.803434\teval-auc:0.716797\n",
      "[312]\ttrain-auc:0.803717\teval-auc:0.716825\n",
      "[313]\ttrain-auc:0.803895\teval-auc:0.716822\n",
      "[314]\ttrain-auc:0.804231\teval-auc:0.71687\n",
      "[315]\ttrain-auc:0.804422\teval-auc:0.716882\n",
      "[316]\ttrain-auc:0.804675\teval-auc:0.716904\n",
      "[317]\ttrain-auc:0.804904\teval-auc:0.716893\n",
      "[318]\ttrain-auc:0.80516\teval-auc:0.716915\n",
      "[319]\ttrain-auc:0.805384\teval-auc:0.716919\n",
      "[320]\ttrain-auc:0.805476\teval-auc:0.716916\n",
      "[321]\ttrain-auc:0.805593\teval-auc:0.716933\n",
      "[322]\ttrain-auc:0.805724\teval-auc:0.716913\n",
      "[323]\ttrain-auc:0.805882\teval-auc:0.716951\n",
      "[324]\ttrain-auc:0.806096\teval-auc:0.716945\n",
      "[325]\ttrain-auc:0.806145\teval-auc:0.716921\n",
      "[326]\ttrain-auc:0.806434\teval-auc:0.71694\n",
      "[327]\ttrain-auc:0.806522\teval-auc:0.716986\n",
      "[328]\ttrain-auc:0.80675\teval-auc:0.717007\n",
      "[329]\ttrain-auc:0.806972\teval-auc:0.717008\n",
      "[330]\ttrain-auc:0.807058\teval-auc:0.717046\n",
      "[331]\ttrain-auc:0.807251\teval-auc:0.717048\n",
      "[332]\ttrain-auc:0.807609\teval-auc:0.717054\n",
      "[333]\ttrain-auc:0.807716\teval-auc:0.717024\n",
      "[334]\ttrain-auc:0.807919\teval-auc:0.717029\n",
      "[335]\ttrain-auc:0.808095\teval-auc:0.717072\n",
      "[336]\ttrain-auc:0.808277\teval-auc:0.717096\n",
      "[337]\ttrain-auc:0.808546\teval-auc:0.717174\n",
      "[338]\ttrain-auc:0.808747\teval-auc:0.717169\n",
      "[339]\ttrain-auc:0.808963\teval-auc:0.717164\n",
      "[340]\ttrain-auc:0.808984\teval-auc:0.717137\n",
      "[341]\ttrain-auc:0.809288\teval-auc:0.717135\n",
      "[342]\ttrain-auc:0.809461\teval-auc:0.717164\n",
      "[343]\ttrain-auc:0.809769\teval-auc:0.717154\n",
      "[344]\ttrain-auc:0.809877\teval-auc:0.717122\n",
      "[345]\ttrain-auc:0.810029\teval-auc:0.717114\n",
      "[346]\ttrain-auc:0.810049\teval-auc:0.71713\n",
      "[347]\ttrain-auc:0.810342\teval-auc:0.717174\n",
      "[348]\ttrain-auc:0.810612\teval-auc:0.717104\n",
      "[349]\ttrain-auc:0.810843\teval-auc:0.717074\n",
      "[350]\ttrain-auc:0.810963\teval-auc:0.717085\n",
      "[351]\ttrain-auc:0.81116\teval-auc:0.717068\n",
      "[352]\ttrain-auc:0.811288\teval-auc:0.717053\n",
      "[353]\ttrain-auc:0.811465\teval-auc:0.717056\n",
      "[354]\ttrain-auc:0.81155\teval-auc:0.717036\n",
      "[355]\ttrain-auc:0.811693\teval-auc:0.716994\n",
      "[356]\ttrain-auc:0.812065\teval-auc:0.717013\n",
      "[357]\ttrain-auc:0.812176\teval-auc:0.717021\n",
      "[358]\ttrain-auc:0.812271\teval-auc:0.717036\n",
      "[359]\ttrain-auc:0.812535\teval-auc:0.717076\n",
      "[360]\ttrain-auc:0.812858\teval-auc:0.717165\n",
      "[361]\ttrain-auc:0.81306\teval-auc:0.717165\n",
      "[362]\ttrain-auc:0.813314\teval-auc:0.717188\n",
      "[363]\ttrain-auc:0.813445\teval-auc:0.717174\n",
      "[364]\ttrain-auc:0.813599\teval-auc:0.717166\n",
      "[365]\ttrain-auc:0.813748\teval-auc:0.717217\n",
      "[366]\ttrain-auc:0.813999\teval-auc:0.717246\n",
      "[367]\ttrain-auc:0.814212\teval-auc:0.717235\n",
      "[368]\ttrain-auc:0.814291\teval-auc:0.71724\n",
      "[369]\ttrain-auc:0.81457\teval-auc:0.717202\n",
      "[370]\ttrain-auc:0.814648\teval-auc:0.717181\n",
      "[371]\ttrain-auc:0.814736\teval-auc:0.717177\n",
      "[372]\ttrain-auc:0.814843\teval-auc:0.717184\n",
      "[373]\ttrain-auc:0.815042\teval-auc:0.717126\n",
      "[374]\ttrain-auc:0.81521\teval-auc:0.717141\n",
      "[375]\ttrain-auc:0.815515\teval-auc:0.717129\n",
      "[376]\ttrain-auc:0.815658\teval-auc:0.717085\n",
      "[377]\ttrain-auc:0.815838\teval-auc:0.71709\n",
      "[378]\ttrain-auc:0.816018\teval-auc:0.717064\n",
      "[379]\ttrain-auc:0.816367\teval-auc:0.71705\n",
      "[380]\ttrain-auc:0.816516\teval-auc:0.717022\n",
      "[381]\ttrain-auc:0.816664\teval-auc:0.717017\n",
      "[382]\ttrain-auc:0.8168\teval-auc:0.717051\n"
     ]
    },
    {
     "name": "stdout",
     "output_type": "stream",
     "text": [
      "[383]\ttrain-auc:0.816923\teval-auc:0.716968\n",
      "[384]\ttrain-auc:0.817103\teval-auc:0.716943\n",
      "[385]\ttrain-auc:0.81724\teval-auc:0.716909\n",
      "[386]\ttrain-auc:0.817291\teval-auc:0.716967\n",
      "[387]\ttrain-auc:0.817536\teval-auc:0.716987\n",
      "[388]\ttrain-auc:0.817836\teval-auc:0.716961\n",
      "[389]\ttrain-auc:0.817966\teval-auc:0.716926\n",
      "[390]\ttrain-auc:0.818119\teval-auc:0.716931\n",
      "[391]\ttrain-auc:0.818377\teval-auc:0.716904\n",
      "[392]\ttrain-auc:0.818471\teval-auc:0.716906\n",
      "[393]\ttrain-auc:0.818566\teval-auc:0.716961\n",
      "[394]\ttrain-auc:0.818893\teval-auc:0.716964\n",
      "[395]\ttrain-auc:0.819122\teval-auc:0.716898\n",
      "[396]\ttrain-auc:0.819244\teval-auc:0.716834\n",
      "[397]\ttrain-auc:0.819465\teval-auc:0.716877\n",
      "[398]\ttrain-auc:0.819672\teval-auc:0.716908\n",
      "[399]\ttrain-auc:0.819852\teval-auc:0.71693\n",
      "[400]\ttrain-auc:0.820064\teval-auc:0.716916\n",
      "[401]\ttrain-auc:0.820239\teval-auc:0.716948\n",
      "[402]\ttrain-auc:0.820343\teval-auc:0.71696\n",
      "[403]\ttrain-auc:0.820557\teval-auc:0.716991\n",
      "[404]\ttrain-auc:0.820866\teval-auc:0.717028\n",
      "[405]\ttrain-auc:0.821019\teval-auc:0.717015\n",
      "[406]\ttrain-auc:0.821291\teval-auc:0.716961\n",
      "[407]\ttrain-auc:0.821358\teval-auc:0.716944\n",
      "[408]\ttrain-auc:0.82146\teval-auc:0.716933\n",
      "[409]\ttrain-auc:0.821601\teval-auc:0.716984\n",
      "[410]\ttrain-auc:0.82184\teval-auc:0.716973\n",
      "[411]\ttrain-auc:0.821997\teval-auc:0.717017\n",
      "[412]\ttrain-auc:0.822137\teval-auc:0.717034\n",
      "[413]\ttrain-auc:0.822261\teval-auc:0.717046\n",
      "[414]\ttrain-auc:0.822435\teval-auc:0.717076\n",
      "[415]\ttrain-auc:0.822634\teval-auc:0.717081\n",
      "[416]\ttrain-auc:0.822928\teval-auc:0.717074\n",
      "Stopping. Best iteration:\n",
      "[366]\ttrain-auc:0.813999\teval-auc:0.717246\n",
      "\n"
     ]
    }
   ],
   "source": [
    "watchlist = [(dtrain, 'train'), (dvalid, 'eval')]\n",
    "num_boost_round = 1500\n",
    "gbm = xgb.train(params, dtrain, num_boost_round, evals=watchlist,\\\n",
    "  early_stopping_rounds= 50)"
   ]
  },
  {
   "cell_type": "code",
   "execution_count": 176,
   "metadata": {},
   "outputs": [],
   "source": [
    "from sklearn.metrics import roc_curve, auc\n",
    "from sklearn import linear_model, datasets\n",
    "import pylab as pl\n",
    "def draw_ROC(model, dtrain, dvalid, dtest, y_train, y_valid, y_test ):\n",
    "    probas_ = model.predict(dvalid, ntree_limit=model.best_ntree_limit)\n",
    "    probas_1 = model.predict(dtrain, ntree_limit=model.best_ntree_limit)\n",
    "    probas_2 = model.predict(dtest, ntree_limit=model.best_ntree_limit)\n",
    "    fpr, tpr, thresholds = roc_curve(y_valid, probas_)\n",
    "    fpr_1, tpr_1, thresholds_1 = roc_curve(y_train, probas_1)\n",
    "    fpr_2, tpr_2, thresholds_2 = roc_curve(y_test, probas_2)\n",
    "    roc_auc = auc(fpr, tpr)\n",
    "    roc_auc_1 = auc(fpr_1, tpr_1)\n",
    "    roc_auc_2 = auc(fpr_2, tpr_2)\n",
    "    print(\"Area under the ROC curve - validation: %f\" % roc_auc)\n",
    "    print(\"Area under the ROC curve - train: %f\" % roc_auc_1)\n",
    "    print(\"Area under the ROC curve - test: %f\" % roc_auc_2)\n",
    "    # Plot ROC curve\n",
    "    plt.figure(figsize=(8,8))\n",
    "    plt.plot(fpr, tpr, label='ROC curve - valid(AUC = %0.2f)' % roc_auc, color='r')\n",
    "    plt.plot(fpr_1, tpr_1, label='ROC curve - train (AUC = %0.2f)' % roc_auc_1, color='b')\n",
    "    plt.plot(fpr_2, tpr_2, label='ROC curve - test (AUC = %0.2f)' % roc_auc_2, color='g')\n",
    "    plt.plot([0, 1], [0, 1], 'k--')\n",
    "    plt.xlim([0.0, 1.0])\n",
    "    plt.ylim([0.0, 1.0])\n",
    "    plt.xlabel('False Positive Rate')\n",
    "    plt.ylabel('True Positive Rate')\n",
    "    plt.title('ROC for lead score model')\n",
    "    plt.legend(loc=\"lower right\")\n",
    "    plt.show()\n"
   ]
  },
  {
   "cell_type": "markdown",
   "metadata": {},
   "source": [
    "### ROC curve"
   ]
  },
  {
   "cell_type": "code",
   "execution_count": 177,
   "metadata": {},
   "outputs": [
    {
     "name": "stdout",
     "output_type": "stream",
     "text": [
      "Area under the ROC curve - validation: 0.717246\n",
      "Area under the ROC curve - train: 0.813999\n",
      "Area under the ROC curve - test: 0.721470\n"
     ]
    },
    {
     "data": {
      "image/png": "[encoded data removed]",
      "text/plain": [
       "<Figure size 576x576 with 1 Axes>"
      ]
     },
     "metadata": {
      "needs_background": "light"
     },
     "output_type": "display_data"
    }
   ],
   "source": [
    "draw_ROC(gbm, dtrain, dvalid, dtest, y_train, y_valid, y_test)"
   ]
  },
  {
   "cell_type": "markdown",
   "metadata": {},
   "source": [
    "### Distribution of predicted values"
   ]
  },
  {
   "cell_type": "code",
   "execution_count": 178,
   "metadata": {},
   "outputs": [],
   "source": [
    "y_pred = gbm.predict(dtest)"
   ]
  },
  {
   "cell_type": "code",
   "execution_count": 180,
   "metadata": {},
   "outputs": [
    {
     "name": "stdout",
     "output_type": "stream",
     "text": [
      "0.8521603 0.0058047604 0.18307613\n"
     ]
    }
   ],
   "source": [
    "print(y_pred.max(), y_pred.min(), y_pred.mean())"
   ]
  },
  {
   "cell_type": "markdown",
   "metadata": {},
   "source": [
    "### Feature importance"
   ]
  },
  {
   "cell_type": "code",
   "execution_count": 181,
   "metadata": {},
   "outputs": [],
   "source": [
    "importance=gbm.get_fscore()"
   ]
  },
  {
   "cell_type": "code",
   "execution_count": 182,
   "metadata": {},
   "outputs": [],
   "source": [
    "df_importance = pd.DataFrame(importance.items(), columns=['feature', 'fscore'])\n",
    "df_importance['fscore'] = df_importance['fscore'] / df_importance['fscore'].sum()"
   ]
  },
  {
   "cell_type": "code",
   "execution_count": 183,
   "metadata": {
    "scrolled": false
   },
   "outputs": [
    {
     "data": {
      "text/html": [
       "<div>\n",
       "<style scoped>\n",
       "    .dataframe tbody tr th:only-of-type {\n",
       "        vertical-align: middle;\n",
       "    }\n",
       "\n",
       "    .dataframe tbody tr th {\n",
       "        vertical-align: top;\n",
       "    }\n",
       "\n",
       "    .dataframe thead th {\n",
       "        text-align: right;\n",
       "    }\n",
       "</style>\n",
       "<table border=\"1\" class=\"dataframe\">\n",
       "  <thead>\n",
       "    <tr style=\"text-align: right;\">\n",
       "      <th></th>\n",
       "      <th>feature</th>\n",
       "      <th>fscore</th>\n",
       "    </tr>\n",
       "  </thead>\n",
       "  <tbody>\n",
       "    <tr>\n",
       "      <th>25</th>\n",
       "      <td>dti</td>\n",
       "      <td>0.037590</td>\n",
       "    </tr>\n",
       "    <tr>\n",
       "      <th>9</th>\n",
       "      <td>installment</td>\n",
       "      <td>0.032871</td>\n",
       "    </tr>\n",
       "    <tr>\n",
       "      <th>10</th>\n",
       "      <td>emptitle_freq</td>\n",
       "      <td>0.028984</td>\n",
       "    </tr>\n",
       "    <tr>\n",
       "      <th>16</th>\n",
       "      <td>mosinoldilacct</td>\n",
       "      <td>0.028262</td>\n",
       "    </tr>\n",
       "    <tr>\n",
       "      <th>29</th>\n",
       "      <td>zipcode</td>\n",
       "      <td>0.027429</td>\n",
       "    </tr>\n",
       "    <tr>\n",
       "      <th>...</th>\n",
       "      <td>...</td>\n",
       "      <td>...</td>\n",
       "    </tr>\n",
       "    <tr>\n",
       "      <th>97</th>\n",
       "      <td>delinqamnt</td>\n",
       "      <td>0.000167</td>\n",
       "    </tr>\n",
       "    <tr>\n",
       "      <th>86</th>\n",
       "      <td>chargeoffwithin12mths</td>\n",
       "      <td>0.000111</td>\n",
       "    </tr>\n",
       "    <tr>\n",
       "      <th>101</th>\n",
       "      <td>purpose_renewable_energy</td>\n",
       "      <td>0.000111</td>\n",
       "    </tr>\n",
       "    <tr>\n",
       "      <th>98</th>\n",
       "      <td>applicationtype</td>\n",
       "      <td>0.000056</td>\n",
       "    </tr>\n",
       "    <tr>\n",
       "      <th>99</th>\n",
       "      <td>numtl30dpd</td>\n",
       "      <td>0.000056</td>\n",
       "    </tr>\n",
       "  </tbody>\n",
       "</table>\n",
       "<p>102 rows × 2 columns</p>\n",
       "</div>"
      ],
      "text/plain": [
       "                      feature    fscore\n",
       "25                        dti  0.037590\n",
       "9                 installment  0.032871\n",
       "10              emptitle_freq  0.028984\n",
       "16             mosinoldilacct  0.028262\n",
       "29                    zipcode  0.027429\n",
       "..                        ...       ...\n",
       "97                 delinqamnt  0.000167\n",
       "86      chargeoffwithin12mths  0.000111\n",
       "101  purpose_renewable_energy  0.000111\n",
       "98            applicationtype  0.000056\n",
       "99                 numtl30dpd  0.000056\n",
       "\n",
       "[102 rows x 2 columns]"
      ]
     },
     "execution_count": 183,
     "metadata": {},
     "output_type": "execute_result"
    }
   ],
   "source": [
    "df_importance.sort_values(['fscore'], ascending=False, inplace=True)\n",
    "df_importance"
   ]
  },
  {
   "cell_type": "code",
   "execution_count": 184,
   "metadata": {},
   "outputs": [
    {
     "data": {
      "text/plain": [
       "<Figure size 2304x2304 with 0 Axes>"
      ]
     },
     "metadata": {},
     "output_type": "display_data"
    },
    {
     "data": {
      "image/png": "[encoded data removed]",
      "text/plain": [
       "<Figure size 432x720 with 1 Axes>"
      ]
     },
     "metadata": {
      "needs_background": "light"
     },
     "output_type": "display_data"
    }
   ],
   "source": [
    "plt.figure(figsize=(32, 32))\n",
    "# df_importance.plot()\n",
    "df_importance[:20].plot(kind='barh', x='feature', y='fscore', legend=False, figsize=(6, 10))\n",
    "plt.title('XGBoost Feature Importance')\n",
    "plt.xlabel('relative importance')\n",
    "plt.gcf().savefig('feature_importance_xgb.png')"
   ]
  },
  {
   "cell_type": "code",
   "execution_count": 185,
   "metadata": {},
   "outputs": [
    {
     "data": {
      "text/html": [
       "<div>\n",
       "<style scoped>\n",
       "    .dataframe tbody tr th:only-of-type {\n",
       "        vertical-align: middle;\n",
       "    }\n",
       "\n",
       "    .dataframe tbody tr th {\n",
       "        vertical-align: top;\n",
       "    }\n",
       "\n",
       "    .dataframe thead th {\n",
       "        text-align: right;\n",
       "    }\n",
       "</style>\n",
       "<table border=\"1\" class=\"dataframe\">\n",
       "  <thead>\n",
       "    <tr style=\"text-align: right;\">\n",
       "      <th></th>\n",
       "      <th>feature</th>\n",
       "      <th>fscore</th>\n",
       "    </tr>\n",
       "  </thead>\n",
       "  <tbody>\n",
       "    <tr>\n",
       "      <th>0</th>\n",
       "      <td>grade</td>\n",
       "      <td>0.001666</td>\n",
       "    </tr>\n",
       "  </tbody>\n",
       "</table>\n",
       "</div>"
      ],
      "text/plain": [
       "  feature    fscore\n",
       "0   grade  0.001666"
      ]
     },
     "execution_count": 185,
     "metadata": {},
     "output_type": "execute_result"
    }
   ],
   "source": [
    "grade_importance = df_importance.query(\"feature=='grade'\")\n",
    "grade_importance"
   ]
  },
  {
   "cell_type": "code",
   "execution_count": 186,
   "metadata": {},
   "outputs": [
    {
     "data": {
      "text/html": [
       "<div>\n",
       "<style scoped>\n",
       "    .dataframe tbody tr th:only-of-type {\n",
       "        vertical-align: middle;\n",
       "    }\n",
       "\n",
       "    .dataframe tbody tr th {\n",
       "        vertical-align: top;\n",
       "    }\n",
       "\n",
       "    .dataframe thead th {\n",
       "        text-align: right;\n",
       "    }\n",
       "</style>\n",
       "<table border=\"1\" class=\"dataframe\">\n",
       "  <thead>\n",
       "    <tr style=\"text-align: right;\">\n",
       "      <th></th>\n",
       "      <th>feature</th>\n",
       "      <th>fscore</th>\n",
       "    </tr>\n",
       "  </thead>\n",
       "  <tbody>\n",
       "    <tr>\n",
       "      <th>1</th>\n",
       "      <td>subgrade</td>\n",
       "      <td>0.007218</td>\n",
       "    </tr>\n",
       "  </tbody>\n",
       "</table>\n",
       "</div>"
      ],
      "text/plain": [
       "    feature    fscore\n",
       "1  subgrade  0.007218"
      ]
     },
     "execution_count": 186,
     "metadata": {},
     "output_type": "execute_result"
    }
   ],
   "source": [
    "subgrade_importance = df_importance.query(\"feature=='subgrade'\")\n",
    "subgrade_importance"
   ]
  },
  {
   "cell_type": "code",
   "execution_count": 187,
   "metadata": {},
   "outputs": [
    {
     "data": {
      "text/html": [
       "<div>\n",
       "<style scoped>\n",
       "    .dataframe tbody tr th:only-of-type {\n",
       "        vertical-align: middle;\n",
       "    }\n",
       "\n",
       "    .dataframe tbody tr th {\n",
       "        vertical-align: top;\n",
       "    }\n",
       "\n",
       "    .dataframe thead th {\n",
       "        text-align: right;\n",
       "    }\n",
       "</style>\n",
       "<table border=\"1\" class=\"dataframe\">\n",
       "  <thead>\n",
       "    <tr style=\"text-align: right;\">\n",
       "      <th></th>\n",
       "      <th>feature</th>\n",
       "      <th>fscore</th>\n",
       "    </tr>\n",
       "  </thead>\n",
       "  <tbody>\n",
       "    <tr>\n",
       "      <th>31</th>\n",
       "      <td>intrate</td>\n",
       "      <td>0.021599</td>\n",
       "    </tr>\n",
       "  </tbody>\n",
       "</table>\n",
       "</div>"
      ],
      "text/plain": [
       "    feature    fscore\n",
       "31  intrate  0.021599"
      ]
     },
     "execution_count": 187,
     "metadata": {},
     "output_type": "execute_result"
    }
   ],
   "source": [
    "intrate_importance = df_importance.query(\"feature=='intrate'\")\n",
    "intrate_importance"
   ]
  },
  {
   "cell_type": "code",
   "execution_count": 188,
   "metadata": {},
   "outputs": [
    {
     "data": {
      "text/html": [
       "<div>\n",
       "<style scoped>\n",
       "    .dataframe tbody tr th:only-of-type {\n",
       "        vertical-align: middle;\n",
       "    }\n",
       "\n",
       "    .dataframe tbody tr th {\n",
       "        vertical-align: top;\n",
       "    }\n",
       "\n",
       "    .dataframe thead th {\n",
       "        text-align: right;\n",
       "    }\n",
       "</style>\n",
       "<table border=\"1\" class=\"dataframe\">\n",
       "  <thead>\n",
       "    <tr style=\"text-align: right;\">\n",
       "      <th></th>\n",
       "      <th>feature</th>\n",
       "      <th>fscore</th>\n",
       "    </tr>\n",
       "  </thead>\n",
       "  <tbody>\n",
       "    <tr>\n",
       "      <th>45</th>\n",
       "      <td>loanamnt</td>\n",
       "      <td>0.017712</td>\n",
       "    </tr>\n",
       "  </tbody>\n",
       "</table>\n",
       "</div>"
      ],
      "text/plain": [
       "     feature    fscore\n",
       "45  loanamnt  0.017712"
      ]
     },
     "execution_count": 188,
     "metadata": {},
     "output_type": "execute_result"
    }
   ],
   "source": [
    "df_importance.query(\"feature=='loanamnt'\")"
   ]
  },
  {
   "cell_type": "code",
   "execution_count": 189,
   "metadata": {},
   "outputs": [
    {
     "data": {
      "text/plain": [
       "Text(0.5, 0, 'relative importance')"
      ]
     },
     "execution_count": 189,
     "metadata": {},
     "output_type": "execute_result"
    },
    {
     "data": {
      "text/plain": [
       "<Figure size 2304x2304 with 0 Axes>"
      ]
     },
     "metadata": {},
     "output_type": "display_data"
    },
    {
     "data": {
      "image/png": "[encoded data removed]",
      "text/plain": [
       "<Figure size 432x720 with 1 Axes>"
      ]
     },
     "metadata": {
      "needs_background": "light"
     },
     "output_type": "display_data"
    }
   ],
   "source": [
    "plt.figure(figsize=(32, 32))\n",
    "# df_importance.plot()\n",
    "df_importance.plot(kind='barh', x='feature', y='fscore', legend=False, figsize=(6, 10))\n",
    "plt.title('XGBoost Feature Importance')\n",
    "plt.xlabel('relative importance')"
   ]
  },
  {
   "cell_type": "markdown",
   "metadata": {},
   "source": [
    "## Save model"
   ]
  },
  {
   "cell_type": "code",
   "execution_count": 190,
   "metadata": {},
   "outputs": [],
   "source": [
    "import pickle"
   ]
  },
  {
   "cell_type": "code",
   "execution_count": 191,
   "metadata": {},
   "outputs": [],
   "source": [
    "pickle.dump(gbm, open('model.pkl', \"wb\"))"
   ]
  },
  {
   "cell_type": "code",
   "execution_count": 192,
   "metadata": {},
   "outputs": [
    {
     "name": "stderr",
     "output_type": "stream",
     "text": [
      "/Users/andyjin/anaconda3/lib/python3.7/site-packages/sklearn/externals/joblib/__init__.py:15: FutureWarning: sklearn.externals.joblib is deprecated in 0.21 and will be removed in 0.23. Please import this functionality directly from joblib, which can be installed with: pip install joblib. If this warning is raised when loading pickled models, you may need to re-serialize those models with scikit-learn 0.21+.\n",
      "  warnings.warn(msg, category=FutureWarning)\n"
     ]
    },
    {
     "data": {
      "text/plain": [
       "['pima.joblib.dat']"
      ]
     },
     "execution_count": 192,
     "metadata": {},
     "output_type": "execute_result"
    }
   ],
   "source": [
    "from sklearn.externals import joblib\n",
    "joblib.dump(gbm, \"pima.joblib.dat\")"
   ]
  }
 ],
 "metadata": {
  "anaconda-cloud": {},
  "kernelspec": {
   "display_name": "Python 3",
   "language": "python",
   "name": "python3"
  },
  "language_info": {
   "codemirror_mode": {
    "name": "ipython",
    "version": 3
   },
   "file_extension": ".py",
   "mimetype": "text/x-python",
   "name": "python",
   "nbconvert_exporter": "python",
   "pygments_lexer": "ipython3",
   "version": "3.7.6"
  }
 },
 "nbformat": 4,
 "nbformat_minor": 1
}
